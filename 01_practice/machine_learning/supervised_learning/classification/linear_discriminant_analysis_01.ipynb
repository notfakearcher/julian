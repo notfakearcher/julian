{
 "cells": [
  {
   "cell_type": "markdown",
   "metadata": {},
   "source": [
    "# Linear Discriminant Analysis"
   ]
  },
  {
   "cell_type": "markdown",
   "metadata": {},
   "source": [
    "## References"
   ]
  },
  {
   "cell_type": "markdown",
   "metadata": {},
   "source": [
    "https://www.kaggle.com/datasets/gpreda/iris-dataset?select=iris.csv"
   ]
  },
  {
   "cell_type": "markdown",
   "metadata": {},
   "source": [
    "## Import Python Libraries"
   ]
  },
  {
   "cell_type": "code",
   "execution_count": 82,
   "metadata": {},
   "outputs": [],
   "source": [
    "import numpy as np\n",
    "import pandas as pd\n",
    "import matplotlib.pyplot as plt\n",
    "from matplotlib.colors import ListedColormap\n",
    "import seaborn as sns\n",
    "import re\n",
    "from sklearn.model_selection import train_test_split\n",
    "from sklearn.feature_selection import VarianceThreshold, SelectKBest, f_classif, RFE, SelectFromModel\n",
    "from sklearn.preprocessing import LabelEncoder, StandardScaler, RobustScaler, MinMaxScaler\n",
    "from sklearn.discriminant_analysis import LinearDiscriminantAnalysis\n",
    "from sklearn.linear_model import LogisticRegression\n",
    "from sklearn.ensemble import RandomForestClassifier, AdaBoostClassifier\n",
    "from sklearn.svm import SVC\n",
    "from sklearn.metrics import confusion_matrix, ConfusionMatrixDisplay, classification_report, roc_curve, RocCurveDisplay\n",
    "from sklearn.utils import resample"
   ]
  },
  {
   "cell_type": "markdown",
   "metadata": {},
   "source": [
    "## Global Variables"
   ]
  },
  {
   "cell_type": "code",
   "execution_count": 83,
   "metadata": {},
   "outputs": [],
   "source": [
    "# random state \n",
    "random_state = 4781\n",
    "# random_state = 7644\n",
    "\n",
    "# colors\n",
    "c_scale = 256\n",
    "c1 = (1, 1, 1) # grey\n",
    "c2 = (1, 0, 0) # red\n",
    "c3 = (181/c_scale, 204/c_scale, 6/c_scale) # yellow\n",
    "c4 = (6/c_scale, 122/c_scale, 204/c_scale) # blue\n",
    "c5 = (0, 0, 0) # black\n",
    "c6 = [\"#fbfce6\", \"#a2daf2\", \"#ffc7c7\"]\n",
    "c7 = [(0, 0, 1), (0, 1 ,0), (1, 0, 0)]"
   ]
  },
  {
   "cell_type": "markdown",
   "metadata": {},
   "source": [
    "## Import Dataset"
   ]
  },
  {
   "cell_type": "code",
   "execution_count": 84,
   "metadata": {},
   "outputs": [],
   "source": [
    "# Source: https://www.kaggle.com/datasets/gpreda/iris-dataset?select=iris.csv\n",
    "\n",
    "# Dataset Column Overview: \n",
    "# ------------------------------------------------------------------------------\n",
    "\n",
    "# X01: id\n",
    "# X02: sepal_length\n",
    "# X03: sepal_width\n",
    "# X04: petal_length\n",
    "# X05: petal_width\n",
    "#   y: species"
   ]
  },
  {
   "cell_type": "code",
   "execution_count": 85,
   "metadata": {},
   "outputs": [
    {
     "data": {
      "text/html": [
       "<div>\n",
       "<style scoped>\n",
       "    .dataframe tbody tr th:only-of-type {\n",
       "        vertical-align: middle;\n",
       "    }\n",
       "\n",
       "    .dataframe tbody tr th {\n",
       "        vertical-align: top;\n",
       "    }\n",
       "\n",
       "    .dataframe thead th {\n",
       "        text-align: right;\n",
       "    }\n",
       "</style>\n",
       "<table border=\"1\" class=\"dataframe\">\n",
       "  <thead>\n",
       "    <tr style=\"text-align: right;\">\n",
       "      <th></th>\n",
       "      <th>id</th>\n",
       "      <th>sepal_length</th>\n",
       "      <th>sepal_width</th>\n",
       "      <th>petal_length</th>\n",
       "      <th>petal_width</th>\n",
       "      <th>species</th>\n",
       "    </tr>\n",
       "  </thead>\n",
       "  <tbody>\n",
       "    <tr>\n",
       "      <th>0</th>\n",
       "      <td>1</td>\n",
       "      <td>5.1</td>\n",
       "      <td>3.5</td>\n",
       "      <td>1.4</td>\n",
       "      <td>0.2</td>\n",
       "      <td>setosa</td>\n",
       "    </tr>\n",
       "    <tr>\n",
       "      <th>1</th>\n",
       "      <td>2</td>\n",
       "      <td>4.9</td>\n",
       "      <td>3.0</td>\n",
       "      <td>1.4</td>\n",
       "      <td>0.2</td>\n",
       "      <td>setosa</td>\n",
       "    </tr>\n",
       "    <tr>\n",
       "      <th>2</th>\n",
       "      <td>3</td>\n",
       "      <td>4.7</td>\n",
       "      <td>3.2</td>\n",
       "      <td>1.3</td>\n",
       "      <td>0.2</td>\n",
       "      <td>setosa</td>\n",
       "    </tr>\n",
       "    <tr>\n",
       "      <th>3</th>\n",
       "      <td>4</td>\n",
       "      <td>4.6</td>\n",
       "      <td>3.1</td>\n",
       "      <td>1.5</td>\n",
       "      <td>0.2</td>\n",
       "      <td>setosa</td>\n",
       "    </tr>\n",
       "    <tr>\n",
       "      <th>4</th>\n",
       "      <td>5</td>\n",
       "      <td>5.0</td>\n",
       "      <td>3.6</td>\n",
       "      <td>1.4</td>\n",
       "      <td>0.2</td>\n",
       "      <td>setosa</td>\n",
       "    </tr>\n",
       "  </tbody>\n",
       "</table>\n",
       "</div>"
      ],
      "text/plain": [
       "   id  sepal_length  sepal_width  petal_length  petal_width species\n",
       "0   1           5.1          3.5           1.4          0.2  setosa\n",
       "1   2           4.9          3.0           1.4          0.2  setosa\n",
       "2   3           4.7          3.2           1.3          0.2  setosa\n",
       "3   4           4.6          3.1           1.5          0.2  setosa\n",
       "4   5           5.0          3.6           1.4          0.2  setosa"
      ]
     },
     "execution_count": 85,
     "metadata": {},
     "output_type": "execute_result"
    }
   ],
   "source": [
    "# load dataset from github\n",
    "filepath1 = 'https://raw.githubusercontent.com/notfakearcher/julian/main/02_data/iris.csv'\n",
    "df0 = pd.read_csv(filepath1, header = 0)\n",
    "df0.head()"
   ]
  },
  {
   "cell_type": "code",
   "execution_count": 86,
   "metadata": {},
   "outputs": [],
   "source": [
    "# identify X_cols and y_col\n",
    "all_cols = df0.columns.values.copy()\n",
    "y_col = 'species'\n",
    "cond1 = all_cols != y_col\n",
    "X_cols = all_cols[cond1]"
   ]
  },
  {
   "cell_type": "code",
   "execution_count": 87,
   "metadata": {},
   "outputs": [
    {
     "data": {
      "text/html": [
       "<div>\n",
       "<style scoped>\n",
       "    .dataframe tbody tr th:only-of-type {\n",
       "        vertical-align: middle;\n",
       "    }\n",
       "\n",
       "    .dataframe tbody tr th {\n",
       "        vertical-align: top;\n",
       "    }\n",
       "\n",
       "    .dataframe thead th {\n",
       "        text-align: right;\n",
       "    }\n",
       "</style>\n",
       "<table border=\"1\" class=\"dataframe\">\n",
       "  <thead>\n",
       "    <tr style=\"text-align: right;\">\n",
       "      <th></th>\n",
       "      <th>X1</th>\n",
       "      <th>X2</th>\n",
       "      <th>X3</th>\n",
       "      <th>X4</th>\n",
       "      <th>X5</th>\n",
       "      <th>y</th>\n",
       "    </tr>\n",
       "  </thead>\n",
       "  <tbody>\n",
       "    <tr>\n",
       "      <th>0</th>\n",
       "      <td>1</td>\n",
       "      <td>5.1</td>\n",
       "      <td>3.5</td>\n",
       "      <td>1.4</td>\n",
       "      <td>0.2</td>\n",
       "      <td>setosa</td>\n",
       "    </tr>\n",
       "    <tr>\n",
       "      <th>1</th>\n",
       "      <td>2</td>\n",
       "      <td>4.9</td>\n",
       "      <td>3.0</td>\n",
       "      <td>1.4</td>\n",
       "      <td>0.2</td>\n",
       "      <td>setosa</td>\n",
       "    </tr>\n",
       "    <tr>\n",
       "      <th>2</th>\n",
       "      <td>3</td>\n",
       "      <td>4.7</td>\n",
       "      <td>3.2</td>\n",
       "      <td>1.3</td>\n",
       "      <td>0.2</td>\n",
       "      <td>setosa</td>\n",
       "    </tr>\n",
       "    <tr>\n",
       "      <th>3</th>\n",
       "      <td>4</td>\n",
       "      <td>4.6</td>\n",
       "      <td>3.1</td>\n",
       "      <td>1.5</td>\n",
       "      <td>0.2</td>\n",
       "      <td>setosa</td>\n",
       "    </tr>\n",
       "    <tr>\n",
       "      <th>4</th>\n",
       "      <td>5</td>\n",
       "      <td>5.0</td>\n",
       "      <td>3.6</td>\n",
       "      <td>1.4</td>\n",
       "      <td>0.2</td>\n",
       "      <td>setosa</td>\n",
       "    </tr>\n",
       "  </tbody>\n",
       "</table>\n",
       "</div>"
      ],
      "text/plain": [
       "   X1   X2   X3   X4   X5       y\n",
       "0   1  5.1  3.5  1.4  0.2  setosa\n",
       "1   2  4.9  3.0  1.4  0.2  setosa\n",
       "2   3  4.7  3.2  1.3  0.2  setosa\n",
       "3   4  4.6  3.1  1.5  0.2  setosa\n",
       "4   5  5.0  3.6  1.4  0.2  setosa"
      ]
     },
     "execution_count": 87,
     "metadata": {},
     "output_type": "execute_result"
    }
   ],
   "source": [
    "# standardize column names\n",
    "df1 = df0.copy()\n",
    "zeros = len(str(len(X_cols)))\n",
    "new_all_cols = all_cols\n",
    "temp = (np.arange(0, len(X_cols)) + 1).astype('str')\n",
    "\n",
    "new_y_col = 'y'\n",
    "new_X_cols = ['X' + i.zfill(zeros) for i in temp]\n",
    "\n",
    "new_all_cols[cond1] = new_X_cols\n",
    "new_all_cols[~cond1] = new_y_col\n",
    "\n",
    "df1.columns = new_all_cols\n",
    "\n",
    "df1.y = df1.y.astype('str')\n",
    "\n",
    "df1.head()\n"
   ]
  },
  {
   "cell_type": "code",
   "execution_count": 88,
   "metadata": {},
   "outputs": [
    {
     "name": "stdout",
     "output_type": "stream",
     "text": [
      "<class 'pandas.core.frame.DataFrame'>\n",
      "RangeIndex: 150 entries, 0 to 149\n",
      "Data columns (total 6 columns):\n",
      " #   Column  Non-Null Count  Dtype  \n",
      "---  ------  --------------  -----  \n",
      " 0   X1      150 non-null    int64  \n",
      " 1   X2      150 non-null    float64\n",
      " 2   X3      150 non-null    float64\n",
      " 3   X4      150 non-null    float64\n",
      " 4   X5      150 non-null    float64\n",
      " 5   y       150 non-null    object \n",
      "dtypes: float64(4), int64(1), object(1)\n",
      "memory usage: 7.2+ KB\n"
     ]
    }
   ],
   "source": [
    "# check data structure\n",
    "df1.info()"
   ]
  },
  {
   "cell_type": "code",
   "execution_count": 89,
   "metadata": {},
   "outputs": [
    {
     "data": {
      "text/html": [
       "<div>\n",
       "<style scoped>\n",
       "    .dataframe tbody tr th:only-of-type {\n",
       "        vertical-align: middle;\n",
       "    }\n",
       "\n",
       "    .dataframe tbody tr th {\n",
       "        vertical-align: top;\n",
       "    }\n",
       "\n",
       "    .dataframe thead th {\n",
       "        text-align: right;\n",
       "    }\n",
       "</style>\n",
       "<table border=\"1\" class=\"dataframe\">\n",
       "  <thead>\n",
       "    <tr style=\"text-align: right;\">\n",
       "      <th></th>\n",
       "      <th>X1</th>\n",
       "      <th>X2</th>\n",
       "      <th>X3</th>\n",
       "      <th>X4</th>\n",
       "      <th>X5</th>\n",
       "    </tr>\n",
       "  </thead>\n",
       "  <tbody>\n",
       "    <tr>\n",
       "      <th>count</th>\n",
       "      <td>150.000000</td>\n",
       "      <td>150.000000</td>\n",
       "      <td>150.000000</td>\n",
       "      <td>150.000000</td>\n",
       "      <td>150.000000</td>\n",
       "    </tr>\n",
       "    <tr>\n",
       "      <th>mean</th>\n",
       "      <td>75.500000</td>\n",
       "      <td>5.843333</td>\n",
       "      <td>3.054000</td>\n",
       "      <td>3.758667</td>\n",
       "      <td>1.198667</td>\n",
       "    </tr>\n",
       "    <tr>\n",
       "      <th>std</th>\n",
       "      <td>43.445368</td>\n",
       "      <td>0.828066</td>\n",
       "      <td>0.433594</td>\n",
       "      <td>1.764420</td>\n",
       "      <td>0.763161</td>\n",
       "    </tr>\n",
       "    <tr>\n",
       "      <th>min</th>\n",
       "      <td>1.000000</td>\n",
       "      <td>4.300000</td>\n",
       "      <td>2.000000</td>\n",
       "      <td>1.000000</td>\n",
       "      <td>0.100000</td>\n",
       "    </tr>\n",
       "    <tr>\n",
       "      <th>25%</th>\n",
       "      <td>38.250000</td>\n",
       "      <td>5.100000</td>\n",
       "      <td>2.800000</td>\n",
       "      <td>1.600000</td>\n",
       "      <td>0.300000</td>\n",
       "    </tr>\n",
       "    <tr>\n",
       "      <th>50%</th>\n",
       "      <td>75.500000</td>\n",
       "      <td>5.800000</td>\n",
       "      <td>3.000000</td>\n",
       "      <td>4.350000</td>\n",
       "      <td>1.300000</td>\n",
       "    </tr>\n",
       "    <tr>\n",
       "      <th>75%</th>\n",
       "      <td>112.750000</td>\n",
       "      <td>6.400000</td>\n",
       "      <td>3.300000</td>\n",
       "      <td>5.100000</td>\n",
       "      <td>1.800000</td>\n",
       "    </tr>\n",
       "    <tr>\n",
       "      <th>max</th>\n",
       "      <td>150.000000</td>\n",
       "      <td>7.900000</td>\n",
       "      <td>4.400000</td>\n",
       "      <td>6.900000</td>\n",
       "      <td>2.500000</td>\n",
       "    </tr>\n",
       "  </tbody>\n",
       "</table>\n",
       "</div>"
      ],
      "text/plain": [
       "               X1          X2          X3          X4          X5\n",
       "count  150.000000  150.000000  150.000000  150.000000  150.000000\n",
       "mean    75.500000    5.843333    3.054000    3.758667    1.198667\n",
       "std     43.445368    0.828066    0.433594    1.764420    0.763161\n",
       "min      1.000000    4.300000    2.000000    1.000000    0.100000\n",
       "25%     38.250000    5.100000    2.800000    1.600000    0.300000\n",
       "50%     75.500000    5.800000    3.000000    4.350000    1.300000\n",
       "75%    112.750000    6.400000    3.300000    5.100000    1.800000\n",
       "max    150.000000    7.900000    4.400000    6.900000    2.500000"
      ]
     },
     "execution_count": 89,
     "metadata": {},
     "output_type": "execute_result"
    }
   ],
   "source": [
    "# describe data\n",
    "df1.describe()"
   ]
  },
  {
   "cell_type": "code",
   "execution_count": 90,
   "metadata": {},
   "outputs": [
    {
     "data": {
      "text/plain": [
       "X1    0\n",
       "X2    0\n",
       "X3    0\n",
       "X4    0\n",
       "X5    0\n",
       "y     0\n",
       "dtype: int64"
      ]
     },
     "execution_count": 90,
     "metadata": {},
     "output_type": "execute_result"
    }
   ],
   "source": [
    "# check missing values\n",
    "df1.isna().sum()"
   ]
  },
  {
   "cell_type": "markdown",
   "metadata": {},
   "source": [
    "## Data Cleaning and Transformation"
   ]
  },
  {
   "cell_type": "code",
   "execution_count": 91,
   "metadata": {},
   "outputs": [
    {
     "data": {
      "text/plain": [
       "'y'"
      ]
     },
     "execution_count": 91,
     "metadata": {},
     "output_type": "execute_result"
    }
   ],
   "source": [
    "# response column\n",
    "y_col = new_y_col\n",
    "y_col"
   ]
  },
  {
   "cell_type": "code",
   "execution_count": 92,
   "metadata": {},
   "outputs": [
    {
     "data": {
      "text/plain": [
       "Index(['X1', 'X2', 'X3', 'X4', 'X5'], dtype='object')"
      ]
     },
     "execution_count": 92,
     "metadata": {},
     "output_type": "execute_result"
    }
   ],
   "source": [
    "# predictor columns\n",
    "cond1 = df1.columns != y_col\n",
    "X_cols = df1.columns[cond1]\n",
    "X_cols"
   ]
  },
  {
   "cell_type": "code",
   "execution_count": 93,
   "metadata": {},
   "outputs": [
    {
     "data": {
      "text/plain": [
       "{'setosa': 0, 'versicolor': 1, 'virginica': 2}"
      ]
     },
     "execution_count": 93,
     "metadata": {},
     "output_type": "execute_result"
    }
   ],
   "source": [
    "# get unique y_labels\n",
    "y_labels = np.sort(df1[y_col].unique())\n",
    "y_labels = {y_labels[i]: i for i in range(len(y_labels))}\n",
    "# y_labels = {i:y_labels[i] for i in range(len(y_labels))}\n",
    "y_labels"
   ]
  },
  {
   "cell_type": "code",
   "execution_count": 94,
   "metadata": {},
   "outputs": [
    {
     "data": {
      "text/html": [
       "<div>\n",
       "<style scoped>\n",
       "    .dataframe tbody tr th:only-of-type {\n",
       "        vertical-align: middle;\n",
       "    }\n",
       "\n",
       "    .dataframe tbody tr th {\n",
       "        vertical-align: top;\n",
       "    }\n",
       "\n",
       "    .dataframe thead th {\n",
       "        text-align: right;\n",
       "    }\n",
       "</style>\n",
       "<table border=\"1\" class=\"dataframe\">\n",
       "  <thead>\n",
       "    <tr style=\"text-align: right;\">\n",
       "      <th></th>\n",
       "      <th>X1</th>\n",
       "      <th>X2</th>\n",
       "      <th>X3</th>\n",
       "      <th>X4</th>\n",
       "      <th>X5</th>\n",
       "      <th>y</th>\n",
       "    </tr>\n",
       "  </thead>\n",
       "  <tbody>\n",
       "    <tr>\n",
       "      <th>0</th>\n",
       "      <td>1</td>\n",
       "      <td>5.1</td>\n",
       "      <td>3.5</td>\n",
       "      <td>1.4</td>\n",
       "      <td>0.2</td>\n",
       "      <td>0</td>\n",
       "    </tr>\n",
       "    <tr>\n",
       "      <th>1</th>\n",
       "      <td>2</td>\n",
       "      <td>4.9</td>\n",
       "      <td>3.0</td>\n",
       "      <td>1.4</td>\n",
       "      <td>0.2</td>\n",
       "      <td>0</td>\n",
       "    </tr>\n",
       "    <tr>\n",
       "      <th>2</th>\n",
       "      <td>3</td>\n",
       "      <td>4.7</td>\n",
       "      <td>3.2</td>\n",
       "      <td>1.3</td>\n",
       "      <td>0.2</td>\n",
       "      <td>0</td>\n",
       "    </tr>\n",
       "    <tr>\n",
       "      <th>3</th>\n",
       "      <td>4</td>\n",
       "      <td>4.6</td>\n",
       "      <td>3.1</td>\n",
       "      <td>1.5</td>\n",
       "      <td>0.2</td>\n",
       "      <td>0</td>\n",
       "    </tr>\n",
       "    <tr>\n",
       "      <th>4</th>\n",
       "      <td>5</td>\n",
       "      <td>5.0</td>\n",
       "      <td>3.6</td>\n",
       "      <td>1.4</td>\n",
       "      <td>0.2</td>\n",
       "      <td>0</td>\n",
       "    </tr>\n",
       "  </tbody>\n",
       "</table>\n",
       "</div>"
      ],
      "text/plain": [
       "   X1   X2   X3   X4   X5  y\n",
       "0   1  5.1  3.5  1.4  0.2  0\n",
       "1   2  4.9  3.0  1.4  0.2  0\n",
       "2   3  4.7  3.2  1.3  0.2  0\n",
       "3   4  4.6  3.1  1.5  0.2  0\n",
       "4   5  5.0  3.6  1.4  0.2  0"
      ]
     },
     "execution_count": 94,
     "metadata": {},
     "output_type": "execute_result"
    }
   ],
   "source": [
    "# rename y_labels\n",
    "df1[y_col] = df1[y_col].replace(y_labels)\n",
    "df1.head()"
   ]
  },
  {
   "cell_type": "code",
   "execution_count": 95,
   "metadata": {},
   "outputs": [],
   "source": [
    "# # check label distribution\n",
    "# temp_labels = list(y_labels.values())\n",
    "# cond_list = []\n",
    "# count_list = []\n",
    "# for i in np.arange(len(temp_labels)):\n",
    "#   # condition for rows matching response label\n",
    "#   # print(i)\n",
    "#   x = temp_labels[i]\n",
    "#   temp_cond = list(df1[y_col] == x)\n",
    "#   cond_list.append(temp_cond)\n",
    "#   # print(cond_list)\n",
    "#   # get total label count\n",
    "#   temp_n = np.sum(cond_list[i])\n",
    "#   # print(temp_n)\n",
    "#   count_list.append(temp_n)\n",
    "  \n",
    "# # max label count\n",
    "# n_max = np.max(count_list)\n",
    "# # index where max value occurs\n",
    "# i_max = np.where(count_list == n_max)[0][0]\n",
    "# # index where max value does not occurs\n",
    "# i_notmax = np.where(count_list != n_max)[0]\n",
    "\n",
    "# print(temp_labels)\n",
    "# print(count_list)\n",
    "# print(n_max)\n",
    "# print(i_max)\n",
    "# print(i_notmax)"
   ]
  },
  {
   "cell_type": "code",
   "execution_count": 96,
   "metadata": {},
   "outputs": [],
   "source": [
    "# # upsample minority labels\n",
    "# df_upsample_list = []\n",
    "# for i in i_notmax:\n",
    "#   # print(i)\n",
    "#   # get dataframe rows where label exsists\n",
    "#   cond = cond_list[i]\n",
    "#   # print(cond)\n",
    "#   df_temp = df1.iloc[cond,:]\n",
    "#   # print(df_temp.info())\n",
    "  \n",
    "#   # determine amount to upsample \n",
    "#   n_diff = n_max - count_list[i]\n",
    "#   # print(n_diff)\n",
    "  \n",
    "#   # generate upsample dataframe \n",
    "#   df_upsample_temp = resample(\n",
    "#     df_temp,\n",
    "#     replace = True,\n",
    "#     n_samples = n_diff,\n",
    "#     random_state = random_state\n",
    "#   )\n",
    "#   df_upsample_list.append(df_upsample_temp)\n",
    "\n",
    "# # put all dataframes in df_upsample_list into one\n",
    "# df_upsample_list = pd.concat(df_upsample_list, ignore_index = True)\n",
    "\n",
    "# # update df1 with upsampled dataframe\n",
    "# df1 = pd.concat([df1, df_upsample_list], ignore_index = True)\n",
    "# df1.info()"
   ]
  },
  {
   "cell_type": "code",
   "execution_count": 97,
   "metadata": {},
   "outputs": [],
   "source": [
    "# # encode categorical values to numerical values\n",
    "# le = LabelEncoder()\n",
    "\n",
    "# categorical_cols = df1[X_cols].select_dtypes(\"object\").columns\n",
    "# # df1[categorical_cols] = df1[categorical_cols].apply(le.fit_transform)\n",
    "\n",
    "# df1.head()"
   ]
  },
  {
   "cell_type": "code",
   "execution_count": 98,
   "metadata": {},
   "outputs": [
    {
     "name": "stdout",
     "output_type": "stream",
     "text": [
      "<class 'pandas.core.frame.DataFrame'>\n",
      "RangeIndex: 150 entries, 0 to 149\n",
      "Data columns (total 6 columns):\n",
      " #   Column  Non-Null Count  Dtype  \n",
      "---  ------  --------------  -----  \n",
      " 0   X1      150 non-null    int64  \n",
      " 1   X2      150 non-null    float64\n",
      " 2   X3      150 non-null    float64\n",
      " 3   X4      150 non-null    float64\n",
      " 4   X5      150 non-null    float64\n",
      " 5   y       150 non-null    int64  \n",
      "dtypes: float64(4), int64(2)\n",
      "memory usage: 7.2 KB\n"
     ]
    }
   ],
   "source": [
    "# update df1\n",
    "X = df1[X_cols]\n",
    "y = df1[y_col]\n",
    "df1 = pd.concat([X, y], axis = 1)\n",
    "df1.info()"
   ]
  },
  {
   "cell_type": "code",
   "execution_count": 99,
   "metadata": {},
   "outputs": [
    {
     "data": {
      "text/html": [
       "<div>\n",
       "<style scoped>\n",
       "    .dataframe tbody tr th:only-of-type {\n",
       "        vertical-align: middle;\n",
       "    }\n",
       "\n",
       "    .dataframe tbody tr th {\n",
       "        vertical-align: top;\n",
       "    }\n",
       "\n",
       "    .dataframe thead th {\n",
       "        text-align: right;\n",
       "    }\n",
       "</style>\n",
       "<table border=\"1\" class=\"dataframe\">\n",
       "  <thead>\n",
       "    <tr style=\"text-align: right;\">\n",
       "      <th></th>\n",
       "      <th>X1</th>\n",
       "      <th>X2</th>\n",
       "      <th>X3</th>\n",
       "      <th>X4</th>\n",
       "      <th>X5</th>\n",
       "      <th>y</th>\n",
       "    </tr>\n",
       "  </thead>\n",
       "  <tbody>\n",
       "    <tr>\n",
       "      <th>0</th>\n",
       "      <td>-1.720542</td>\n",
       "      <td>-0.900681</td>\n",
       "      <td>1.032057</td>\n",
       "      <td>-1.341272</td>\n",
       "      <td>-1.312977</td>\n",
       "      <td>0</td>\n",
       "    </tr>\n",
       "    <tr>\n",
       "      <th>1</th>\n",
       "      <td>-1.697448</td>\n",
       "      <td>-1.143017</td>\n",
       "      <td>-0.124958</td>\n",
       "      <td>-1.341272</td>\n",
       "      <td>-1.312977</td>\n",
       "      <td>0</td>\n",
       "    </tr>\n",
       "    <tr>\n",
       "      <th>2</th>\n",
       "      <td>-1.674353</td>\n",
       "      <td>-1.385353</td>\n",
       "      <td>0.337848</td>\n",
       "      <td>-1.398138</td>\n",
       "      <td>-1.312977</td>\n",
       "      <td>0</td>\n",
       "    </tr>\n",
       "    <tr>\n",
       "      <th>3</th>\n",
       "      <td>-1.651258</td>\n",
       "      <td>-1.506521</td>\n",
       "      <td>0.106445</td>\n",
       "      <td>-1.284407</td>\n",
       "      <td>-1.312977</td>\n",
       "      <td>0</td>\n",
       "    </tr>\n",
       "    <tr>\n",
       "      <th>4</th>\n",
       "      <td>-1.628164</td>\n",
       "      <td>-1.021849</td>\n",
       "      <td>1.263460</td>\n",
       "      <td>-1.341272</td>\n",
       "      <td>-1.312977</td>\n",
       "      <td>0</td>\n",
       "    </tr>\n",
       "  </tbody>\n",
       "</table>\n",
       "</div>"
      ],
      "text/plain": [
       "         X1        X2        X3        X4        X5  y\n",
       "0 -1.720542 -0.900681  1.032057 -1.341272 -1.312977  0\n",
       "1 -1.697448 -1.143017 -0.124958 -1.341272 -1.312977  0\n",
       "2 -1.674353 -1.385353  0.337848 -1.398138 -1.312977  0\n",
       "3 -1.651258 -1.506521  0.106445 -1.284407 -1.312977  0\n",
       "4 -1.628164 -1.021849  1.263460 -1.341272 -1.312977  0"
      ]
     },
     "execution_count": 99,
     "metadata": {},
     "output_type": "execute_result"
    }
   ],
   "source": [
    "# normalize all X_cols\n",
    "df2 = df1.copy()\n",
    "norm = StandardScaler()\n",
    "# norm = MinMaxScaler()\n",
    "# norm = RobustScaler()\n",
    "df2[X_cols] = norm.fit_transform(df2[X_cols])\n",
    "\n",
    "df2.head()"
   ]
  },
  {
   "cell_type": "code",
   "execution_count": 100,
   "metadata": {},
   "outputs": [],
   "source": [
    "# # remove outliers from each column\n",
    "# for X in X_cols:\n",
    "#   cond1 = ~((df2[X] >= 3) | (df2[X] <= -3))\n",
    "#   df2 = df2.loc[cond1,:]\n",
    "  \n",
    "# df2.info()"
   ]
  },
  {
   "cell_type": "markdown",
   "metadata": {},
   "source": [
    "## Visualize Dataset"
   ]
  },
  {
   "cell_type": "code",
   "execution_count": 101,
   "metadata": {},
   "outputs": [],
   "source": [
    "# figure setup\n",
    "fig_cols = 3\n",
    "fig_rows = np.ceil(len(X_cols)/fig_cols).astype('int')\n",
    "y_max = np.round(df2[X_cols].max().max(), 0)\n",
    "y_min = np.round(df2[X_cols].min().min(), 0)\n",
    "n_levels = df2.y.unique().size\n",
    "palette1 = [c1 for i in range(n_levels)]\n",
    "palette2 = [c3, c4]\n",
    "figsize = (15, 15)"
   ]
  },
  {
   "cell_type": "code",
   "execution_count": 102,
   "metadata": {},
   "outputs": [
    {
     "data": {
      "image/png": "[encoded data removed]",
      "text/plain": [
       "<Figure size 1500x1500 with 6 Axes>"
      ]
     },
     "metadata": {},
     "output_type": "display_data"
    }
   ],
   "source": [
    "# subplot of y vs each X (stripplot + violinplot + boxenplot)\n",
    "f1, axes = plt.subplots(fig_rows, fig_cols, figsize = figsize)\n",
    "itr = 0\n",
    "for x in X_cols:\n",
    "  row = np.floor(itr/fig_cols) \n",
    "  row = row.astype('int')\n",
    "  col = np.mod(itr, fig_cols)\n",
    "  col = col.astype('int') \n",
    "  # print(row)\n",
    "  # print(col)\n",
    "  # p1 = sns.violinplot(ax = axes[row, col], data = df2, x = y_col, y = x, hue = y_col, palette = palette1)\n",
    "  p2 = sns.boxenplot(ax = axes[row, col], data = df2, x = y_col, y = x, hue = y_col, palette = palette1)\n",
    "  p3 = sns.scatterplot(ax = axes[row, col], data = df2, x = y_col, y = x, color = c2, size = 1)\n",
    "  p4 = sns.pointplot(ax = axes[row, col], data = df2, x = y_col, y = x, color = c5, linewidth = 1)\n",
    "  axes[row, col].legend_ = None\n",
    "  # axes[row, col].set_ylim(y_min, y_max)\n",
    "  itr = itr + 1"
   ]
  },
  {
   "cell_type": "markdown",
   "metadata": {},
   "source": [
    "## Train and Test ML Model"
   ]
  },
  {
   "cell_type": "code",
   "execution_count": 103,
   "metadata": {},
   "outputs": [],
   "source": [
    "# seperate data into X and y\n",
    "X = df2[X_cols]\n",
    "y = np.ravel(df2[y_col])"
   ]
  },
  {
   "cell_type": "code",
   "execution_count": 104,
   "metadata": {},
   "outputs": [],
   "source": [
    "# split data into train and test datasets\n",
    "X_train, X_test, y_train, y_test = train_test_split(X, y, \n",
    "  stratify = y, shuffle = True, \n",
    "  train_size = 0.8, random_state = random_state\n",
    ")"
   ]
  },
  {
   "cell_type": "code",
   "execution_count": 105,
   "metadata": {},
   "outputs": [],
   "source": [
    "# get linear discriminant analysis components\n",
    "lda = LinearDiscriminantAnalysis(n_components = 2)"
   ]
  },
  {
   "cell_type": "code",
   "execution_count": 106,
   "metadata": {},
   "outputs": [],
   "source": [
    "# fit linear discriminant analysis components to training data\n",
    "temp = lda.fit(X_train, y_train)"
   ]
  },
  {
   "cell_type": "code",
   "execution_count": 107,
   "metadata": {},
   "outputs": [
    {
     "data": {
      "text/plain": [
       "0.9999999999999999"
      ]
     },
     "execution_count": 107,
     "metadata": {},
     "output_type": "execute_result"
    }
   ],
   "source": [
    "# pca explained variance ration\n",
    "var_ratio = lda.explained_variance_ratio_\n",
    "var_ratio.sum()"
   ]
  },
  {
   "cell_type": "code",
   "execution_count": 108,
   "metadata": {},
   "outputs": [],
   "source": [
    "# transform data based on linear discriminant analysis components\n",
    "X_train = lda.transform(X_train)\n",
    "X_test = lda.transform(X_test)"
   ]
  },
  {
   "cell_type": "code",
   "execution_count": 109,
   "metadata": {},
   "outputs": [],
   "source": [
    "# # initialize LogisticRegression model\n",
    "# myfit = LogisticRegression(\n",
    "#   fit_intercept = True,\n",
    "#   tol = 1E-15,\n",
    "#   random_state = random_state\n",
    "# )\n",
    "\n",
    "# initialize RandomForest model\n",
    "myfit = RandomForestClassifier(\n",
    "  random_state = random_state\n",
    ")"
   ]
  },
  {
   "cell_type": "code",
   "execution_count": 110,
   "metadata": {},
   "outputs": [],
   "source": [
    "# fit model\n",
    "temp = myfit.fit(X_train, y_train)"
   ]
  },
  {
   "cell_type": "code",
   "execution_count": 111,
   "metadata": {},
   "outputs": [],
   "source": [
    "# get predictions on test data\n",
    "y_hat = myfit.predict(X_test)"
   ]
  },
  {
   "cell_type": "code",
   "execution_count": 112,
   "metadata": {},
   "outputs": [
    {
     "data": {
      "image/png": "[encoded data removed]",
      "text/plain": [
       "<Figure size 640x480 with 2 Axes>"
      ]
     },
     "metadata": {},
     "output_type": "display_data"
    }
   ],
   "source": [
    "# model evaluation - confusion matrix\n",
    "\n",
    "# get confusion matrix\n",
    "cm = confusion_matrix(\n",
    "  y_true = y_test,\n",
    "  y_pred = y_hat\n",
    ")\n",
    "\n",
    "# show confusion matrix visual\n",
    "labels = myfit.classes_\n",
    "p1 = ConfusionMatrixDisplay(confusion_matrix = cm, display_labels = labels)\n",
    "p1.plot()\n",
    "plt.title('Evaluation Metric - Confusion Matrix')\n",
    "plt.show()"
   ]
  },
  {
   "cell_type": "code",
   "execution_count": 113,
   "metadata": {},
   "outputs": [
    {
     "name": "stdout",
     "output_type": "stream",
     "text": [
      "              precision    recall  f1-score   support\n",
      "\n",
      "           0       1.00      1.00      1.00        10\n",
      "           1       1.00      1.00      1.00        10\n",
      "           2       1.00      1.00      1.00        10\n",
      "\n",
      "    accuracy                           1.00        30\n",
      "   macro avg       1.00      1.00      1.00        30\n",
      "weighted avg       1.00      1.00      1.00        30\n",
      "\n"
     ]
    }
   ],
   "source": [
    "# model evaluation - recall, precision , F1-score\n",
    "metric_report = classification_report(y_true = y_test, y_pred = y_hat, output_dict = False, zero_division = 0) \n",
    "print(metric_report)"
   ]
  },
  {
   "cell_type": "code",
   "execution_count": 114,
   "metadata": {},
   "outputs": [],
   "source": [
    "# function for plotting segments\n",
    "def jra_plot_segments(X, y, classifier_fit, colors_contour, colors_scatter, title):\n",
    "  X_values, y_values = X, y\n",
    "  X1_min = X_values[:,0].min() - 1\n",
    "  X2_min = X_values[:,1].min() - 1\n",
    "  X2_max = X_values[:,1].max() + 1\n",
    "  X1_max = X_values[:,0].max() + 1\n",
    "  X1_values = np.arange(X1_min, X1_max, 0.01)\n",
    "  X2_values = np.arange(X2_min, X2_max, 0.01)\n",
    "\n",
    "  X1, X2 = np.meshgrid(X1_values, X2_values)\n",
    "\n",
    "  X_fill = np.array([X1.ravel(), X2.ravel()]).T\n",
    "  y_hat_fill = classifier_fit.predict(X_fill).reshape(X1.shape)\n",
    "  y_hat_fill\n",
    "\n",
    "  # plot labels\n",
    "  for i, j in enumerate(np.unique(y_values)):\n",
    "    plt.scatter(\n",
    "      X_values[y_values == j, 0], \n",
    "      X_values[y_values == j, 1],\n",
    "      color = colors_scatter[i],\n",
    "      label = j\n",
    "    )\n",
    "  \n",
    "  # plot segemented regions\n",
    "  plt.contourf(X1, X2, y_hat_fill.astype('float'), \n",
    "    alpha = 0.5,\n",
    "    cmap = ListedColormap(colors_contour)  # https://matplotlib.org/stable/users/explain/colors/colormaps.html\n",
    "  )\n",
    "  \n",
    "  # clean up plot\n",
    "  plt.xlim(X1_min, X1_max)\n",
    "  plt.ylim(X2_min, X2_max)\n",
    "  plt.title(title)\n",
    "  plt.xlabel('PC1')\n",
    "  plt.ylabel('PC2')\n",
    "  plt.legend()\n",
    "  # plt.show()"
   ]
  },
  {
   "cell_type": "code",
   "execution_count": 115,
   "metadata": {},
   "outputs": [
    {
     "data": {
      "image/png": "[encoded data removed]",
      "text/plain": [
       "<Figure size 1300x500 with 2 Axes>"
      ]
     },
     "metadata": {},
     "output_type": "display_data"
    }
   ],
   "source": [
    "# plot segments for train + test dataset\n",
    "fig, axes = plt.subplots(nrows = 1, ncols = 2, figsize = (13,5))\n",
    "plt.subplot(121)\n",
    "jra_plot_segments(\n",
    "  X = X_train, y = y_train, \n",
    "  classifier_fit = myfit, \n",
    "  colors_contour = c6, colors_scatter = c7,\n",
    "  title = 'Segment Plot:\\nTraining Labels vs LDA Components 1 and 2'\n",
    ")\n",
    "plt.subplot(122)\n",
    "jra_plot_segments(\n",
    "  X = X_test, y = y_test, \n",
    "  classifier_fit = myfit, \n",
    "  colors_contour = c6, colors_scatter = c7,\n",
    "  title = 'Segment Plot:\\nTesting Labels vs LDA Components 1 and 2'\n",
    ")\n",
    "\n",
    "plt.show()"
   ]
  }
 ],
 "metadata": {
  "kernelspec": {
   "display_name": "pythonupskill",
   "language": "python",
   "name": "python3"
  },
  "language_info": {
   "codemirror_mode": {
    "name": "ipython",
    "version": 3
   },
   "file_extension": ".py",
   "mimetype": "text/x-python",
   "name": "python",
   "nbconvert_exporter": "python",
   "pygments_lexer": "ipython3",
   "version": "3.11.5"
  }
 },
 "nbformat": 4,
 "nbformat_minor": 2
}
