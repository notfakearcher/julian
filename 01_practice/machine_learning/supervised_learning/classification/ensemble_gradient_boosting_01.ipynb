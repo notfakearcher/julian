{
 "cells": [
  {
   "cell_type": "markdown",
   "metadata": {},
   "source": [
    "# Ensemble - Adaptive Boosting"
   ]
  },
  {
   "cell_type": "markdown",
   "metadata": {},
   "source": [
    "## References"
   ]
  },
  {
   "cell_type": "markdown",
   "metadata": {},
   "source": [
    "https://www.kaggle.com/datasets/youssefaboelwafa/credit-card-approval"
   ]
  },
  {
   "cell_type": "markdown",
   "metadata": {},
   "source": [
    "## Import Python Libraries"
   ]
  },
  {
   "cell_type": "code",
   "execution_count": 255,
   "metadata": {},
   "outputs": [],
   "source": [
    "import numpy as np\n",
    "import pandas as pd\n",
    "import matplotlib.pyplot as plt\n",
    "import seaborn as sns\n",
    "import re\n",
    "import datetime\n",
    "from sklearn.model_selection import train_test_split\n",
    "from sklearn.feature_selection import VarianceThreshold, SelectKBest, f_classif, RFE, SelectFromModel\n",
    "from sklearn.preprocessing import LabelEncoder, StandardScaler, RobustScaler, MinMaxScaler\n",
    "from sklearn.linear_model import Perceptron\n",
    "from sklearn.naive_bayes import GaussianNB\n",
    "from sklearn.tree import DecisionTreeClassifier\n",
    "from sklearn.linear_model import LogisticRegression\n",
    "from sklearn.neighbors import KNeighborsClassifier\n",
    "from sklearn.svm import SVC\n",
    "from sklearn.ensemble import RandomForestClassifier, BaggingClassifier, AdaBoostClassifier, GradientBoostingClassifier\n",
    "from sklearn.discriminant_analysis import LinearDiscriminantAnalysis\n",
    "from sklearn.metrics import confusion_matrix, ConfusionMatrixDisplay, classification_report, roc_curve, RocCurveDisplay\n",
    "from sklearn.utils import resample"
   ]
  },
  {
   "cell_type": "markdown",
   "metadata": {},
   "source": [
    "## Global Variables"
   ]
  },
  {
   "cell_type": "code",
   "execution_count": 256,
   "metadata": {},
   "outputs": [],
   "source": [
    "# random state \n",
    "random_state = 4781\n",
    "# random_state = 7644\n",
    "\n",
    "# colors\n",
    "c_scale = 256\n",
    "c1 = (1, 1, 1) # grey\n",
    "c2 = (1, 0, 0) # red\n",
    "c3 = (181/c_scale, 204/c_scale, 6/c_scale) # yellow\n",
    "c4 = (6/c_scale, 122/c_scale, 204/c_scale) # blue\n",
    "c5 = (0, 0, 0) # black"
   ]
  },
  {
   "cell_type": "markdown",
   "metadata": {},
   "source": [
    "## Import Dataset"
   ]
  },
  {
   "cell_type": "code",
   "execution_count": 257,
   "metadata": {},
   "outputs": [],
   "source": [
    "\n",
    "# Source: https://www.kaggle.com/datasets/yasserh/bmidataset\n",
    "\n",
    "# Dataset Column Overview: \n",
    "# ------------------------------------------------------------------------------\n",
    "\n",
    "# X1: Gender : Male / Female\n",
    "# X2: Height : Number (cm)\n",
    "# X3: Weight : Number (Kg)\n",
    "#  y: Index : \n",
    "  # ----------\n",
    "  # 0 - Extremely Weak\n",
    "  # 1 - Weak\n",
    "  # 2 - Normal\n",
    "  # 3 - Overweight\n",
    "  # 4 - Obesity\n",
    "  # 5 - Extreme Obesity"
   ]
  },
  {
   "cell_type": "code",
   "execution_count": 258,
   "metadata": {},
   "outputs": [
    {
     "data": {
      "text/html": [
       "<div>\n",
       "<style scoped>\n",
       "    .dataframe tbody tr th:only-of-type {\n",
       "        vertical-align: middle;\n",
       "    }\n",
       "\n",
       "    .dataframe tbody tr th {\n",
       "        vertical-align: top;\n",
       "    }\n",
       "\n",
       "    .dataframe thead th {\n",
       "        text-align: right;\n",
       "    }\n",
       "</style>\n",
       "<table border=\"1\" class=\"dataframe\">\n",
       "  <thead>\n",
       "    <tr style=\"text-align: right;\">\n",
       "      <th></th>\n",
       "      <th>Gender</th>\n",
       "      <th>Height</th>\n",
       "      <th>Weight</th>\n",
       "      <th>Index</th>\n",
       "    </tr>\n",
       "  </thead>\n",
       "  <tbody>\n",
       "    <tr>\n",
       "      <th>0</th>\n",
       "      <td>Male</td>\n",
       "      <td>174</td>\n",
       "      <td>96</td>\n",
       "      <td>4</td>\n",
       "    </tr>\n",
       "    <tr>\n",
       "      <th>1</th>\n",
       "      <td>Male</td>\n",
       "      <td>189</td>\n",
       "      <td>87</td>\n",
       "      <td>2</td>\n",
       "    </tr>\n",
       "    <tr>\n",
       "      <th>2</th>\n",
       "      <td>Female</td>\n",
       "      <td>185</td>\n",
       "      <td>110</td>\n",
       "      <td>4</td>\n",
       "    </tr>\n",
       "    <tr>\n",
       "      <th>3</th>\n",
       "      <td>Female</td>\n",
       "      <td>195</td>\n",
       "      <td>104</td>\n",
       "      <td>3</td>\n",
       "    </tr>\n",
       "    <tr>\n",
       "      <th>4</th>\n",
       "      <td>Male</td>\n",
       "      <td>149</td>\n",
       "      <td>61</td>\n",
       "      <td>3</td>\n",
       "    </tr>\n",
       "  </tbody>\n",
       "</table>\n",
       "</div>"
      ],
      "text/plain": [
       "   Gender  Height  Weight  Index\n",
       "0    Male     174      96      4\n",
       "1    Male     189      87      2\n",
       "2  Female     185     110      4\n",
       "3  Female     195     104      3\n",
       "4    Male     149      61      3"
      ]
     },
     "execution_count": 258,
     "metadata": {},
     "output_type": "execute_result"
    }
   ],
   "source": [
    "# load dataset from github\n",
    "filepath1 = 'https://raw.githubusercontent.com/notfakearcher/julian/main/02_data/bmi.csv'\n",
    "df0 = pd.read_csv(filepath1, header = 0)\n",
    "df0.head()"
   ]
  },
  {
   "cell_type": "code",
   "execution_count": 259,
   "metadata": {},
   "outputs": [],
   "source": [
    "# identify X_cols and y_col\n",
    "all_cols = df0.columns.values\n",
    "y_col = 'Index'\n",
    "cond1 = all_cols != y_col\n",
    "X_cols = all_cols[cond1]"
   ]
  },
  {
   "cell_type": "code",
   "execution_count": 260,
   "metadata": {},
   "outputs": [
    {
     "data": {
      "text/html": [
       "<div>\n",
       "<style scoped>\n",
       "    .dataframe tbody tr th:only-of-type {\n",
       "        vertical-align: middle;\n",
       "    }\n",
       "\n",
       "    .dataframe tbody tr th {\n",
       "        vertical-align: top;\n",
       "    }\n",
       "\n",
       "    .dataframe thead th {\n",
       "        text-align: right;\n",
       "    }\n",
       "</style>\n",
       "<table border=\"1\" class=\"dataframe\">\n",
       "  <thead>\n",
       "    <tr style=\"text-align: right;\">\n",
       "      <th></th>\n",
       "      <th>X1</th>\n",
       "      <th>X2</th>\n",
       "      <th>X3</th>\n",
       "      <th>y</th>\n",
       "    </tr>\n",
       "  </thead>\n",
       "  <tbody>\n",
       "    <tr>\n",
       "      <th>0</th>\n",
       "      <td>Male</td>\n",
       "      <td>174</td>\n",
       "      <td>96</td>\n",
       "      <td>4</td>\n",
       "    </tr>\n",
       "    <tr>\n",
       "      <th>1</th>\n",
       "      <td>Male</td>\n",
       "      <td>189</td>\n",
       "      <td>87</td>\n",
       "      <td>2</td>\n",
       "    </tr>\n",
       "    <tr>\n",
       "      <th>2</th>\n",
       "      <td>Female</td>\n",
       "      <td>185</td>\n",
       "      <td>110</td>\n",
       "      <td>4</td>\n",
       "    </tr>\n",
       "    <tr>\n",
       "      <th>3</th>\n",
       "      <td>Female</td>\n",
       "      <td>195</td>\n",
       "      <td>104</td>\n",
       "      <td>3</td>\n",
       "    </tr>\n",
       "    <tr>\n",
       "      <th>4</th>\n",
       "      <td>Male</td>\n",
       "      <td>149</td>\n",
       "      <td>61</td>\n",
       "      <td>3</td>\n",
       "    </tr>\n",
       "  </tbody>\n",
       "</table>\n",
       "</div>"
      ],
      "text/plain": [
       "       X1   X2   X3  y\n",
       "0    Male  174   96  4\n",
       "1    Male  189   87  2\n",
       "2  Female  185  110  4\n",
       "3  Female  195  104  3\n",
       "4    Male  149   61  3"
      ]
     },
     "execution_count": 260,
     "metadata": {},
     "output_type": "execute_result"
    }
   ],
   "source": [
    "# standardize column names\n",
    "df1 = df0.copy()\n",
    "zeros = len(str(len(X_cols)))\n",
    "new_all_cols = all_cols\n",
    "temp = (np.arange(0, len(X_cols)) + 1).astype('str')\n",
    "\n",
    "new_y_col = 'y'\n",
    "new_X_cols = ['X' + i.zfill(zeros) for i in temp]\n",
    "\n",
    "new_all_cols[cond1] = new_X_cols\n",
    "new_all_cols[~cond1] = new_y_col\n",
    "\n",
    "df1.columns = new_all_cols\n",
    "\n",
    "df1.head()"
   ]
  },
  {
   "cell_type": "code",
   "execution_count": 261,
   "metadata": {},
   "outputs": [
    {
     "name": "stdout",
     "output_type": "stream",
     "text": [
      "<class 'pandas.core.frame.DataFrame'>\n",
      "RangeIndex: 500 entries, 0 to 499\n",
      "Data columns (total 4 columns):\n",
      " #   Column  Non-Null Count  Dtype \n",
      "---  ------  --------------  ----- \n",
      " 0   X1      500 non-null    object\n",
      " 1   X2      500 non-null    int64 \n",
      " 2   X3      500 non-null    int64 \n",
      " 3   y       500 non-null    int64 \n",
      "dtypes: int64(3), object(1)\n",
      "memory usage: 15.8+ KB\n"
     ]
    }
   ],
   "source": [
    "# check data structure\n",
    "df1.info()"
   ]
  },
  {
   "cell_type": "code",
   "execution_count": 262,
   "metadata": {},
   "outputs": [
    {
     "data": {
      "text/html": [
       "<div>\n",
       "<style scoped>\n",
       "    .dataframe tbody tr th:only-of-type {\n",
       "        vertical-align: middle;\n",
       "    }\n",
       "\n",
       "    .dataframe tbody tr th {\n",
       "        vertical-align: top;\n",
       "    }\n",
       "\n",
       "    .dataframe thead th {\n",
       "        text-align: right;\n",
       "    }\n",
       "</style>\n",
       "<table border=\"1\" class=\"dataframe\">\n",
       "  <thead>\n",
       "    <tr style=\"text-align: right;\">\n",
       "      <th></th>\n",
       "      <th>X2</th>\n",
       "      <th>X3</th>\n",
       "      <th>y</th>\n",
       "    </tr>\n",
       "  </thead>\n",
       "  <tbody>\n",
       "    <tr>\n",
       "      <th>count</th>\n",
       "      <td>500.000000</td>\n",
       "      <td>500.000000</td>\n",
       "      <td>500.000000</td>\n",
       "    </tr>\n",
       "    <tr>\n",
       "      <th>mean</th>\n",
       "      <td>169.944000</td>\n",
       "      <td>106.000000</td>\n",
       "      <td>3.748000</td>\n",
       "    </tr>\n",
       "    <tr>\n",
       "      <th>std</th>\n",
       "      <td>16.375261</td>\n",
       "      <td>32.382607</td>\n",
       "      <td>1.355053</td>\n",
       "    </tr>\n",
       "    <tr>\n",
       "      <th>min</th>\n",
       "      <td>140.000000</td>\n",
       "      <td>50.000000</td>\n",
       "      <td>0.000000</td>\n",
       "    </tr>\n",
       "    <tr>\n",
       "      <th>25%</th>\n",
       "      <td>156.000000</td>\n",
       "      <td>80.000000</td>\n",
       "      <td>3.000000</td>\n",
       "    </tr>\n",
       "    <tr>\n",
       "      <th>50%</th>\n",
       "      <td>170.500000</td>\n",
       "      <td>106.000000</td>\n",
       "      <td>4.000000</td>\n",
       "    </tr>\n",
       "    <tr>\n",
       "      <th>75%</th>\n",
       "      <td>184.000000</td>\n",
       "      <td>136.000000</td>\n",
       "      <td>5.000000</td>\n",
       "    </tr>\n",
       "    <tr>\n",
       "      <th>max</th>\n",
       "      <td>199.000000</td>\n",
       "      <td>160.000000</td>\n",
       "      <td>5.000000</td>\n",
       "    </tr>\n",
       "  </tbody>\n",
       "</table>\n",
       "</div>"
      ],
      "text/plain": [
       "               X2          X3           y\n",
       "count  500.000000  500.000000  500.000000\n",
       "mean   169.944000  106.000000    3.748000\n",
       "std     16.375261   32.382607    1.355053\n",
       "min    140.000000   50.000000    0.000000\n",
       "25%    156.000000   80.000000    3.000000\n",
       "50%    170.500000  106.000000    4.000000\n",
       "75%    184.000000  136.000000    5.000000\n",
       "max    199.000000  160.000000    5.000000"
      ]
     },
     "execution_count": 262,
     "metadata": {},
     "output_type": "execute_result"
    }
   ],
   "source": [
    "# describe data\n",
    "df1.describe()"
   ]
  },
  {
   "cell_type": "code",
   "execution_count": 263,
   "metadata": {},
   "outputs": [
    {
     "data": {
      "text/plain": [
       "X1    0\n",
       "X2    0\n",
       "X3    0\n",
       "y     0\n",
       "dtype: int64"
      ]
     },
     "execution_count": 263,
     "metadata": {},
     "output_type": "execute_result"
    }
   ],
   "source": [
    "# check missing values\n",
    "df1.isna().sum()"
   ]
  },
  {
   "cell_type": "markdown",
   "metadata": {},
   "source": [
    "## Data Cleaning and Transformation"
   ]
  },
  {
   "cell_type": "code",
   "execution_count": 264,
   "metadata": {},
   "outputs": [
    {
     "data": {
      "text/html": [
       "<div>\n",
       "<style scoped>\n",
       "    .dataframe tbody tr th:only-of-type {\n",
       "        vertical-align: middle;\n",
       "    }\n",
       "\n",
       "    .dataframe tbody tr th {\n",
       "        vertical-align: top;\n",
       "    }\n",
       "\n",
       "    .dataframe thead th {\n",
       "        text-align: right;\n",
       "    }\n",
       "</style>\n",
       "<table border=\"1\" class=\"dataframe\">\n",
       "  <thead>\n",
       "    <tr style=\"text-align: right;\">\n",
       "      <th></th>\n",
       "      <th>X1</th>\n",
       "      <th>X2</th>\n",
       "      <th>X3</th>\n",
       "      <th>y</th>\n",
       "    </tr>\n",
       "  </thead>\n",
       "  <tbody>\n",
       "    <tr>\n",
       "      <th>0</th>\n",
       "      <td>Male</td>\n",
       "      <td>174</td>\n",
       "      <td>96</td>\n",
       "      <td>4</td>\n",
       "    </tr>\n",
       "    <tr>\n",
       "      <th>1</th>\n",
       "      <td>Male</td>\n",
       "      <td>189</td>\n",
       "      <td>87</td>\n",
       "      <td>2</td>\n",
       "    </tr>\n",
       "    <tr>\n",
       "      <th>2</th>\n",
       "      <td>Female</td>\n",
       "      <td>185</td>\n",
       "      <td>110</td>\n",
       "      <td>4</td>\n",
       "    </tr>\n",
       "    <tr>\n",
       "      <th>3</th>\n",
       "      <td>Female</td>\n",
       "      <td>195</td>\n",
       "      <td>104</td>\n",
       "      <td>3</td>\n",
       "    </tr>\n",
       "    <tr>\n",
       "      <th>4</th>\n",
       "      <td>Male</td>\n",
       "      <td>149</td>\n",
       "      <td>61</td>\n",
       "      <td>3</td>\n",
       "    </tr>\n",
       "  </tbody>\n",
       "</table>\n",
       "</div>"
      ],
      "text/plain": [
       "       X1   X2   X3  y\n",
       "0    Male  174   96  4\n",
       "1    Male  189   87  2\n",
       "2  Female  185  110  4\n",
       "3  Female  195  104  3\n",
       "4    Male  149   61  3"
      ]
     },
     "execution_count": 264,
     "metadata": {},
     "output_type": "execute_result"
    }
   ],
   "source": [
    "df1.head()"
   ]
  },
  {
   "cell_type": "code",
   "execution_count": 265,
   "metadata": {},
   "outputs": [
    {
     "data": {
      "text/plain": [
       "'y'"
      ]
     },
     "execution_count": 265,
     "metadata": {},
     "output_type": "execute_result"
    }
   ],
   "source": [
    "# response column\n",
    "y_col = new_y_col\n",
    "y_col"
   ]
  },
  {
   "cell_type": "code",
   "execution_count": 266,
   "metadata": {},
   "outputs": [
    {
     "data": {
      "text/plain": [
       "Index(['X1', 'X2', 'X3'], dtype='object')"
      ]
     },
     "execution_count": 266,
     "metadata": {},
     "output_type": "execute_result"
    }
   ],
   "source": [
    "# predictor columns\n",
    "cond1 = df1.columns != y_col\n",
    "X_cols = df1.columns[cond1]\n",
    "X_cols"
   ]
  },
  {
   "cell_type": "code",
   "execution_count": 267,
   "metadata": {},
   "outputs": [
    {
     "data": {
      "text/plain": [
       "{'Extremely Weak': 0,\n",
       " 'Weak': 1,\n",
       " 'Normal': 2,\n",
       " 'Overweight': 3,\n",
       " 'Obesity': 4,\n",
       " 'Extreme Obesity': 5}"
      ]
     },
     "execution_count": 267,
     "metadata": {},
     "output_type": "execute_result"
    }
   ],
   "source": [
    "# get unique y_labels\n",
    "y_labels = ['Extremely Weak', 'Weak', 'Normal', 'Overweight', 'Obesity', 'Extreme Obesity']\n",
    "y_labels = {y_labels[i]: i for i in range(len(y_labels))}\n",
    "# y_labels = {i:y_labels[i] for i in range(len(y_labels))}\n",
    "y_labels"
   ]
  },
  {
   "cell_type": "code",
   "execution_count": 268,
   "metadata": {},
   "outputs": [
    {
     "data": {
      "text/html": [
       "<div>\n",
       "<style scoped>\n",
       "    .dataframe tbody tr th:only-of-type {\n",
       "        vertical-align: middle;\n",
       "    }\n",
       "\n",
       "    .dataframe tbody tr th {\n",
       "        vertical-align: top;\n",
       "    }\n",
       "\n",
       "    .dataframe thead th {\n",
       "        text-align: right;\n",
       "    }\n",
       "</style>\n",
       "<table border=\"1\" class=\"dataframe\">\n",
       "  <thead>\n",
       "    <tr style=\"text-align: right;\">\n",
       "      <th></th>\n",
       "      <th>X1</th>\n",
       "      <th>X2</th>\n",
       "      <th>X3</th>\n",
       "      <th>y</th>\n",
       "    </tr>\n",
       "  </thead>\n",
       "  <tbody>\n",
       "    <tr>\n",
       "      <th>0</th>\n",
       "      <td>Male</td>\n",
       "      <td>174</td>\n",
       "      <td>96</td>\n",
       "      <td>4</td>\n",
       "    </tr>\n",
       "    <tr>\n",
       "      <th>1</th>\n",
       "      <td>Male</td>\n",
       "      <td>189</td>\n",
       "      <td>87</td>\n",
       "      <td>2</td>\n",
       "    </tr>\n",
       "    <tr>\n",
       "      <th>2</th>\n",
       "      <td>Female</td>\n",
       "      <td>185</td>\n",
       "      <td>110</td>\n",
       "      <td>4</td>\n",
       "    </tr>\n",
       "    <tr>\n",
       "      <th>3</th>\n",
       "      <td>Female</td>\n",
       "      <td>195</td>\n",
       "      <td>104</td>\n",
       "      <td>3</td>\n",
       "    </tr>\n",
       "    <tr>\n",
       "      <th>4</th>\n",
       "      <td>Male</td>\n",
       "      <td>149</td>\n",
       "      <td>61</td>\n",
       "      <td>3</td>\n",
       "    </tr>\n",
       "  </tbody>\n",
       "</table>\n",
       "</div>"
      ],
      "text/plain": [
       "       X1   X2   X3  y\n",
       "0    Male  174   96  4\n",
       "1    Male  189   87  2\n",
       "2  Female  185  110  4\n",
       "3  Female  195  104  3\n",
       "4    Male  149   61  3"
      ]
     },
     "execution_count": 268,
     "metadata": {},
     "output_type": "execute_result"
    }
   ],
   "source": [
    "# rename y_labels\n",
    "df1.y = df1.y.replace(y_labels)\n",
    "df1.head()"
   ]
  },
  {
   "cell_type": "code",
   "execution_count": 269,
   "metadata": {},
   "outputs": [
    {
     "data": {
      "text/plain": [
       "X1    0\n",
       "X2    0\n",
       "X3    0\n",
       "y     0\n",
       "dtype: int64"
      ]
     },
     "execution_count": 269,
     "metadata": {},
     "output_type": "execute_result"
    }
   ],
   "source": [
    "# remove rows with missing valus\n",
    "for X in df1.columns.values:\n",
    "  cond1 = ~((df1[X].isna()))\n",
    "  df1 = df1.loc[cond1,:]\n",
    "  \n",
    "df1.isna().sum()"
   ]
  },
  {
   "cell_type": "code",
   "execution_count": 270,
   "metadata": {},
   "outputs": [
    {
     "data": {
      "text/html": [
       "<div>\n",
       "<style scoped>\n",
       "    .dataframe tbody tr th:only-of-type {\n",
       "        vertical-align: middle;\n",
       "    }\n",
       "\n",
       "    .dataframe tbody tr th {\n",
       "        vertical-align: top;\n",
       "    }\n",
       "\n",
       "    .dataframe thead th {\n",
       "        text-align: right;\n",
       "    }\n",
       "</style>\n",
       "<table border=\"1\" class=\"dataframe\">\n",
       "  <thead>\n",
       "    <tr style=\"text-align: right;\">\n",
       "      <th></th>\n",
       "      <th>X1</th>\n",
       "      <th>X2</th>\n",
       "      <th>X3</th>\n",
       "      <th>y</th>\n",
       "    </tr>\n",
       "  </thead>\n",
       "  <tbody>\n",
       "    <tr>\n",
       "      <th>0</th>\n",
       "      <td>1</td>\n",
       "      <td>174</td>\n",
       "      <td>96</td>\n",
       "      <td>4</td>\n",
       "    </tr>\n",
       "    <tr>\n",
       "      <th>1</th>\n",
       "      <td>1</td>\n",
       "      <td>189</td>\n",
       "      <td>87</td>\n",
       "      <td>2</td>\n",
       "    </tr>\n",
       "    <tr>\n",
       "      <th>2</th>\n",
       "      <td>0</td>\n",
       "      <td>185</td>\n",
       "      <td>110</td>\n",
       "      <td>4</td>\n",
       "    </tr>\n",
       "    <tr>\n",
       "      <th>3</th>\n",
       "      <td>0</td>\n",
       "      <td>195</td>\n",
       "      <td>104</td>\n",
       "      <td>3</td>\n",
       "    </tr>\n",
       "    <tr>\n",
       "      <th>4</th>\n",
       "      <td>1</td>\n",
       "      <td>149</td>\n",
       "      <td>61</td>\n",
       "      <td>3</td>\n",
       "    </tr>\n",
       "  </tbody>\n",
       "</table>\n",
       "</div>"
      ],
      "text/plain": [
       "   X1   X2   X3  y\n",
       "0   1  174   96  4\n",
       "1   1  189   87  2\n",
       "2   0  185  110  4\n",
       "3   0  195  104  3\n",
       "4   1  149   61  3"
      ]
     },
     "execution_count": 270,
     "metadata": {},
     "output_type": "execute_result"
    }
   ],
   "source": [
    "# encode categorical values to numerical values\n",
    "le = LabelEncoder()\n",
    "\n",
    "categorical_cols = df1[X_cols].select_dtypes(\"object\").columns\n",
    "df1[categorical_cols] = df1[categorical_cols].apply(le.fit_transform)\n",
    "\n",
    "df1.head()"
   ]
  },
  {
   "cell_type": "code",
   "execution_count": 271,
   "metadata": {},
   "outputs": [
    {
     "data": {
      "text/plain": [
       "array(['1', '2', '3'], dtype='<U11')"
      ]
     },
     "execution_count": 271,
     "metadata": {},
     "output_type": "execute_result"
    }
   ],
   "source": [
    "temp"
   ]
  },
  {
   "cell_type": "code",
   "execution_count": 272,
   "metadata": {},
   "outputs": [
    {
     "name": "stdout",
     "output_type": "stream",
     "text": [
      "0\n",
      "13\n",
      "1\n",
      "22\n",
      "2\n",
      "69\n",
      "3\n",
      "68\n",
      "4\n",
      "130\n",
      "5\n",
      "198\n",
      "<class 'pandas.core.frame.DataFrame'>\n",
      "RangeIndex: 1188 entries, 0 to 1187\n",
      "Data columns (total 4 columns):\n",
      " #   Column  Non-Null Count  Dtype\n",
      "---  ------  --------------  -----\n",
      " 0   X1      1188 non-null   int32\n",
      " 1   X2      1188 non-null   int64\n",
      " 2   X3      1188 non-null   int64\n",
      " 3   y       1188 non-null   int64\n",
      "dtypes: int32(1), int64(3)\n",
      "memory usage: 32.6 KB\n"
     ]
    }
   ],
   "source": [
    "# check label distribution\n",
    "temp = list(y_labels.values())\n",
    "cond0 = df1.y == temp[0]\n",
    "cond1 = df1.y == temp[1]\n",
    "cond2 = df1.y == temp[2]\n",
    "cond3 = df1.y == temp[3]\n",
    "cond4 = df1.y == temp[4]\n",
    "cond5 = df1.y == temp[5]\n",
    "\n",
    "\n",
    "n0 = np.sum(cond0)\n",
    "print(temp[0])\n",
    "print(n0)\n",
    "\n",
    "n1 = np.sum(cond1)\n",
    "print(temp[1])\n",
    "print(n_1)\n",
    "\n",
    "n2 = np.sum(cond2)\n",
    "print(temp[2])\n",
    "print(n2)\n",
    "\n",
    "n3 = np.sum(cond3)\n",
    "print(temp[3])\n",
    "print(n3)\n",
    "\n",
    "n4 = np.sum(cond4)\n",
    "print(temp[4])\n",
    "print(n4)\n",
    "\n",
    "n5 = np.sum(cond5)\n",
    "print(temp[5])\n",
    "print(n5)\n",
    "\n",
    "# # upsample minority label (0,1,2,3,4)\n",
    "df_temp0 = df1.loc[cond0,:]\n",
    "df_temp1 = df1.loc[cond1,:]\n",
    "df_temp2 = df1.loc[cond2,:]\n",
    "df_temp3 = df1.loc[cond3,:]\n",
    "df_temp4 = df1.loc[cond4,:]\n",
    "\n",
    "n_diff0 = n5 - n0\n",
    "n_diff1 = n5 - n1\n",
    "n_diff2 = n5 - n2\n",
    "n_diff3 = n5 - n3\n",
    "n_diff4 = n5 - n4\n",
    "\n",
    "df_upsample0 = resample(\n",
    "  df_temp0,\n",
    "  replace = True,\n",
    "  n_samples = n_diff0,\n",
    "  random_state = random_state\n",
    ")\n",
    "df_upsample1 = resample(\n",
    "  df_temp1,\n",
    "  replace = True,\n",
    "  n_samples = n_diff1,\n",
    "  random_state = random_state\n",
    ")\n",
    "df_upsample2 = resample(\n",
    "  df_temp2,\n",
    "  replace = True,\n",
    "  n_samples = n_diff2,\n",
    "  random_state = random_state\n",
    ")\n",
    "df_upsample3 = resample(\n",
    "  df_temp3,\n",
    "  replace = True,\n",
    "  n_samples = n_diff3,\n",
    "  random_state = random_state\n",
    ")\n",
    "df_upsample4 = resample(\n",
    "  df_temp4,\n",
    "  replace = True,\n",
    "  n_samples = n_diff4,\n",
    "  random_state = random_state\n",
    ")\n",
    "\n",
    "# update df1\n",
    "df1 = pd.concat([df1, df_upsample0, df_upsample1, df_upsample2, df_upsample3, df_upsample4], ignore_index = True)\n",
    "\n",
    "\n",
    "df1.info()"
   ]
  },
  {
   "cell_type": "code",
   "execution_count": 273,
   "metadata": {},
   "outputs": [],
   "source": [
    "# # check label distribution\n",
    "# temp = list(y_labels.values())\n",
    "# cond1 = df1.y == temp[0]\n",
    "# cond2 = df1.y == temp[1]\n",
    "\n",
    "# n_1 = np.sum(cond1)\n",
    "# print(temp[0])\n",
    "# print(n_1)\n",
    "\n",
    "# n_2 = np.sum(cond2)\n",
    "# print(temp[1])\n",
    "# print(n_2)\n",
    "\n",
    "# # downsample majority label\n",
    "# df_temp = df1.loc[cond1,:]\n",
    "# n_diff = n_1 - n_2\n",
    "# print(n_diff)\n",
    "\n",
    "# df_upsample = resample(\n",
    "#   df_temp,\n",
    "#   replace = False,\n",
    "#   n_samples = n_diff,\n",
    "#   random_state = random_state\n",
    "# )\n",
    "\n",
    "# # # update df1\n",
    "# df1 = df1.drop(df_upsample.index)\n",
    "# df1.info()"
   ]
  },
  {
   "cell_type": "code",
   "execution_count": 311,
   "metadata": {},
   "outputs": [
    {
     "data": {
      "text/html": [
       "<div>\n",
       "<style scoped>\n",
       "    .dataframe tbody tr th:only-of-type {\n",
       "        vertical-align: middle;\n",
       "    }\n",
       "\n",
       "    .dataframe tbody tr th {\n",
       "        vertical-align: top;\n",
       "    }\n",
       "\n",
       "    .dataframe thead th {\n",
       "        text-align: right;\n",
       "    }\n",
       "</style>\n",
       "<table border=\"1\" class=\"dataframe\">\n",
       "  <thead>\n",
       "    <tr style=\"text-align: right;\">\n",
       "      <th></th>\n",
       "      <th>X1</th>\n",
       "      <th>X2</th>\n",
       "      <th>X3</th>\n",
       "      <th>y</th>\n",
       "    </tr>\n",
       "  </thead>\n",
       "  <tbody>\n",
       "    <tr>\n",
       "      <th>0</th>\n",
       "      <td>1.0</td>\n",
       "      <td>-0.250000</td>\n",
       "      <td>0.428571</td>\n",
       "      <td>4</td>\n",
       "    </tr>\n",
       "    <tr>\n",
       "      <th>1</th>\n",
       "      <td>1.0</td>\n",
       "      <td>0.375000</td>\n",
       "      <td>0.244898</td>\n",
       "      <td>2</td>\n",
       "    </tr>\n",
       "    <tr>\n",
       "      <th>2</th>\n",
       "      <td>0.0</td>\n",
       "      <td>0.208333</td>\n",
       "      <td>0.714286</td>\n",
       "      <td>4</td>\n",
       "    </tr>\n",
       "    <tr>\n",
       "      <th>3</th>\n",
       "      <td>0.0</td>\n",
       "      <td>0.625000</td>\n",
       "      <td>0.591837</td>\n",
       "      <td>3</td>\n",
       "    </tr>\n",
       "    <tr>\n",
       "      <th>4</th>\n",
       "      <td>1.0</td>\n",
       "      <td>-1.291667</td>\n",
       "      <td>-0.285714</td>\n",
       "      <td>3</td>\n",
       "    </tr>\n",
       "  </tbody>\n",
       "</table>\n",
       "</div>"
      ],
      "text/plain": [
       "    X1        X2        X3  y\n",
       "0  1.0 -0.250000  0.428571  4\n",
       "1  1.0  0.375000  0.244898  2\n",
       "2  0.0  0.208333  0.714286  4\n",
       "3  0.0  0.625000  0.591837  3\n",
       "4  1.0 -1.291667 -0.285714  3"
      ]
     },
     "execution_count": 311,
     "metadata": {},
     "output_type": "execute_result"
    }
   ],
   "source": [
    "# normalize all X_cols\n",
    "df2 = df1.copy()\n",
    "# norm = StandardScaler()\n",
    "# norm = MinMaxScaler()\n",
    "norm = RobustScaler()\n",
    "df2[X_cols] = norm.fit_transform(df2[X_cols])\n",
    "\n",
    "df2.head()"
   ]
  },
  {
   "cell_type": "markdown",
   "metadata": {},
   "source": [
    "## Visualize Dataset"
   ]
  },
  {
   "cell_type": "code",
   "execution_count": 312,
   "metadata": {},
   "outputs": [],
   "source": [
    "# figure setup\n",
    "fig_cols = 3\n",
    "fig_rows = np.ceil(len(X_cols)/fig_cols).astype('int')\n",
    "y_max = np.round(df2[X_cols].max().max(), 0)\n",
    "y_min = np.round(df2[X_cols].min().min(), 0)\n",
    "n_levels = df2.y.unique().size\n",
    "palette1 = [c1 for i in range(n_levels)]\n",
    "palette2 = [c3, c4]\n",
    "figsize = (20, 5)"
   ]
  },
  {
   "cell_type": "code",
   "execution_count": 313,
   "metadata": {},
   "outputs": [
    {
     "data": {
      "image/png": "[encoded data removed]",
      "text/plain": [
       "<Figure size 2000x500 with 3 Axes>"
      ]
     },
     "metadata": {},
     "output_type": "display_data"
    }
   ],
   "source": [
    "# subplot of y vs each X (stripplot + violinplot + boxenplot)\n",
    "f1, axes = plt.subplots(fig_rows, fig_cols, figsize = figsize)\n",
    "itr = 0\n",
    "for x in X_cols:\n",
    "  row = np.floor(itr/fig_cols) \n",
    "  row = row.astype('int')\n",
    "  col = np.mod(itr, fig_cols)\n",
    "  col = col.astype('int') \n",
    "  # print(row)\n",
    "  # print(col)\n",
    "  # p1 = sns.violinplot(ax = axes[row, col], data = df2, x = y_col, y = x, hue = y_col, palette = palette1)\n",
    "  p2 = sns.boxenplot(ax = axes[col], data = df2, x = y_col, y = x, hue = y_col, palette = palette1)\n",
    "  p3 = sns.stripplot(ax = axes[col], data = df2, x = y_col, y = x, color = c2, size = 1)\n",
    "  p4 = sns.pointplot(ax = axes[col], data = df2, x = y_col, y = x, color = c5, linewidth = 1)\n",
    "  axes[col].legend_ = None\n",
    "  # axes[row, col].set_ylim(y_min, y_max)\n",
    "  itr = itr + 1"
   ]
  },
  {
   "cell_type": "markdown",
   "metadata": {},
   "source": [
    "## Feature Selection"
   ]
  },
  {
   "cell_type": "markdown",
   "metadata": {},
   "source": [
    "### Remove Features Having % Similar Values or More"
   ]
  },
  {
   "cell_type": "code",
   "execution_count": 314,
   "metadata": {},
   "outputs": [
    {
     "name": "stdout",
     "output_type": "stream",
     "text": [
      "1 0\n"
     ]
    }
   ],
   "source": [
    "# porportion similar (p)\n",
    "p = 1\n",
    "# porportion dissimilar (q = 1- p)\n",
    "q = 1 - p\n",
    "\n",
    "print(p,q)"
   ]
  },
  {
   "cell_type": "code",
   "execution_count": 315,
   "metadata": {},
   "outputs": [],
   "source": [
    "# initialize variance threshold model (based on porportion dissimilar)\n",
    "myfit = VarianceThreshold(q)"
   ]
  },
  {
   "cell_type": "code",
   "execution_count": 316,
   "metadata": {},
   "outputs": [
    {
     "data": {
      "text/plain": [
       "(1188, 3)"
      ]
     },
     "execution_count": 316,
     "metadata": {},
     "output_type": "execute_result"
    }
   ],
   "source": [
    "# fit model\n",
    "temp = myfit.fit_transform(df2[X_cols])\n",
    "temp.shape"
   ]
  },
  {
   "cell_type": "code",
   "execution_count": 317,
   "metadata": {},
   "outputs": [
    {
     "data": {
      "text/plain": [
       "array(['X1', 'X2', 'X3'], dtype=object)"
      ]
     },
     "execution_count": 317,
     "metadata": {},
     "output_type": "execute_result"
    }
   ],
   "source": [
    "# get columns that have at least p-similar or q-disimilar values\n",
    "X_cols_var_threshold = myfit.get_feature_names_out()\n",
    "X_cols_var_threshold"
   ]
  },
  {
   "cell_type": "code",
   "execution_count": 318,
   "metadata": {},
   "outputs": [
    {
     "data": {
      "text/plain": [
       "array(['X1', 'X2', 'X3'], dtype=object)"
      ]
     },
     "execution_count": 318,
     "metadata": {},
     "output_type": "execute_result"
    }
   ],
   "source": [
    "# update X_cols\n",
    "X_cols = X_cols_var_threshold\n",
    "X_cols"
   ]
  },
  {
   "cell_type": "markdown",
   "metadata": {},
   "source": [
    "### Select Features Using Model Selection Methods"
   ]
  },
  {
   "cell_type": "code",
   "execution_count": 319,
   "metadata": {},
   "outputs": [],
   "source": [
    "# seperate data into X and y\n",
    "X = df2[X_cols]\n",
    "y = np.ravel(df2[y_col])"
   ]
  },
  {
   "cell_type": "code",
   "execution_count": 320,
   "metadata": {},
   "outputs": [],
   "source": [
    "# estimator model\n",
    "estimator_model = RandomForestClassifier(\n",
    "  n_estimators = 20,\n",
    "  # max_depth = 100,\n",
    "  criterion = 'gini',\n",
    "  random_state = random_state\n",
    ")    "
   ]
  },
  {
   "cell_type": "code",
   "execution_count": 321,
   "metadata": {},
   "outputs": [],
   "source": [
    "# fit estimmator model\n",
    "temp = estimator_model.fit(X, y)"
   ]
  },
  {
   "cell_type": "code",
   "execution_count": 322,
   "metadata": {},
   "outputs": [
    {
     "data": {
      "text/plain": [
       "array([0.01058592, 0.35106456, 0.63834952])"
      ]
     },
     "execution_count": 322,
     "metadata": {},
     "output_type": "execute_result"
    }
   ],
   "source": [
    "# feature importance values\n",
    "feature_importance = estimator_model.feature_importances_\n",
    "feature_importance"
   ]
  },
  {
   "cell_type": "code",
   "execution_count": 323,
   "metadata": {},
   "outputs": [
    {
     "data": {
      "text/plain": [
       "0.3510645620654857"
      ]
     },
     "execution_count": 323,
     "metadata": {},
     "output_type": "execute_result"
    }
   ],
   "source": [
    "# threshold feature importance\n",
    "# feature_importance_threshold = np.mean(feature_importance)\n",
    "feature_importance_threshold = np.median(feature_importance)\n",
    "# feature_importance_threshold = np.quantile(feature_importance, q = 0.75)\n",
    "feature_importance_threshold"
   ]
  },
  {
   "cell_type": "code",
   "execution_count": 324,
   "metadata": {},
   "outputs": [],
   "source": [
    "# initialize SelectFromModel\n",
    "myfit = SelectFromModel(\n",
    "  estimator = estimator_model,\n",
    "  threshold = feature_importance_threshold\n",
    ")"
   ]
  },
  {
   "cell_type": "code",
   "execution_count": 325,
   "metadata": {},
   "outputs": [],
   "source": [
    "# fit SelectFromModel\n",
    "temp = myfit.fit_transform(X, y)"
   ]
  },
  {
   "cell_type": "code",
   "execution_count": 326,
   "metadata": {},
   "outputs": [
    {
     "data": {
      "text/plain": [
       "array(['X2', 'X3'], dtype=object)"
      ]
     },
     "execution_count": 326,
     "metadata": {},
     "output_type": "execute_result"
    }
   ],
   "source": [
    "# get columns kept from ensemble - random forest feature selection\n",
    "X_cols_rf = myfit.get_feature_names_out()\n",
    "X_cols_rf"
   ]
  },
  {
   "cell_type": "markdown",
   "metadata": {},
   "source": [
    "## Train and Test ML Model"
   ]
  },
  {
   "cell_type": "code",
   "execution_count": 327,
   "metadata": {},
   "outputs": [
    {
     "name": "stdout",
     "output_type": "stream",
     "text": [
      "2\n",
      "['X2' 'X3']\n"
     ]
    }
   ],
   "source": [
    "# X_cols to include after feature selection\n",
    "# X_include = X.columns\n",
    "X_include = X_cols_rf\n",
    "print(len(X_include))\n",
    "print(X_include)"
   ]
  },
  {
   "cell_type": "code",
   "execution_count": 340,
   "metadata": {},
   "outputs": [],
   "source": [
    "# split data into train and test datasets\n",
    "X_train, X_test, y_train, y_test = train_test_split(X[X_include], y, \n",
    "  stratify = y, shuffle = True, \n",
    "  train_size = 0.8, random_state = random_state\n",
    ")"
   ]
  },
  {
   "cell_type": "code",
   "execution_count": 341,
   "metadata": {},
   "outputs": [],
   "source": [
    "# initialize Gradient Boosting\n",
    "myfit = GradientBoostingClassifier(\n",
    "  n_estimators = 1000,\n",
    "  random_state = random_state\n",
    ")"
   ]
  },
  {
   "cell_type": "code",
   "execution_count": 342,
   "metadata": {},
   "outputs": [],
   "source": [
    "# fit model\n",
    "temp = myfit.fit(X_train, y_train)"
   ]
  },
  {
   "cell_type": "code",
   "execution_count": 343,
   "metadata": {},
   "outputs": [],
   "source": [
    "# get predictions on test data\n",
    "y_hat = myfit.predict(X_test)"
   ]
  },
  {
   "cell_type": "code",
   "execution_count": 344,
   "metadata": {},
   "outputs": [
    {
     "data": {
      "image/png": "[encoded data removed]",
      "text/plain": [
       "<Figure size 640x480 with 2 Axes>"
      ]
     },
     "metadata": {},
     "output_type": "display_data"
    }
   ],
   "source": [
    "# model evaluation - confusion matrix\n",
    "\n",
    "# get confusion matrix\n",
    "cm = confusion_matrix(\n",
    "  y_true = y_test,\n",
    "  y_pred = y_hat\n",
    ")\n",
    "\n",
    "# show confusion matrix visual\n",
    "labels = myfit.classes_\n",
    "p1 = ConfusionMatrixDisplay(confusion_matrix = cm, display_labels = labels)\n",
    "p1.plot()\n",
    "plt.title('Evaluation Metric - Confusion Matrix')\n",
    "plt.show()"
   ]
  },
  {
   "cell_type": "code",
   "execution_count": 345,
   "metadata": {},
   "outputs": [
    {
     "name": "stdout",
     "output_type": "stream",
     "text": [
      "              precision    recall  f1-score   support\n",
      "\n",
      "           0       1.00      1.00      1.00        40\n",
      "           1       0.97      1.00      0.99        39\n",
      "           2       0.93      0.95      0.94        40\n",
      "           3       0.95      0.93      0.94        40\n",
      "           4       0.90      0.92      0.91        39\n",
      "           5       0.95      0.90      0.92        40\n",
      "\n",
      "    accuracy                           0.95       238\n",
      "   macro avg       0.95      0.95      0.95       238\n",
      "weighted avg       0.95      0.95      0.95       238\n",
      "\n"
     ]
    }
   ],
   "source": [
    "# model evaluation - recall, precision , F1-score\n",
    "metric_report = classification_report(y_true = y_test, y_pred = y_hat, output_dict = False, zero_division = 0) \n",
    "print(metric_report)"
   ]
  }
 ],
 "metadata": {
  "kernelspec": {
   "display_name": "pythonupskill",
   "language": "python",
   "name": "python3"
  },
  "language_info": {
   "codemirror_mode": {
    "name": "ipython",
    "version": 3
   },
   "file_extension": ".py",
   "mimetype": "text/x-python",
   "name": "python",
   "nbconvert_exporter": "python",
   "pygments_lexer": "ipython3",
   "version": "3.11.5"
  }
 },
 "nbformat": 4,
 "nbformat_minor": 2
}
