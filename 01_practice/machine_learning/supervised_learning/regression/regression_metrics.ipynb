{
 "cells": [
  {
   "cell_type": "markdown",
   "metadata": {},
   "source": [
    "# Regression Metrics"
   ]
  },
  {
   "cell_type": "markdown",
   "metadata": {},
   "source": [
    "## Import Libraries"
   ]
  },
  {
   "cell_type": "code",
   "execution_count": 1,
   "metadata": {},
   "outputs": [],
   "source": [
    "import numpy as np\n",
    "import pandas as pd"
   ]
  },
  {
   "cell_type": "markdown",
   "metadata": {},
   "source": [
    "## Calculate Regression Metrics"
   ]
  },
  {
   "cell_type": "code",
   "execution_count": 3,
   "metadata": {},
   "outputs": [],
   "source": [
    "# Bias - inability of model causing error between predicted and actual values [-inf, inf]\n",
    "def jra_ml_bias(y_true, y_pred):\n",
    "  x = (np.mean(y_pred) - y_true).sum()\n",
    "  return(x)"
   ]
  },
  {
   "cell_type": "code",
   "execution_count": 2,
   "metadata": {},
   "outputs": [],
   "source": [
    "# R squared - goodness of fit; amount of variability explained [0, 1]\n",
    "def jra_ml_rsquared(y_true, y_pred):\n",
    "  a = np.power((y_pred - y_true), 2).sum()\n",
    "  b = np.power((np.mean(y_true) - y_true), 2).sum()\n",
    "  x = 1 - (a / b)\n",
    "  return(x)"
   ]
  },
  {
   "cell_type": "code",
   "execution_count": 4,
   "metadata": {},
   "outputs": [],
   "source": [
    "# mean squared error - goodness of fit; how close predicted matches true values [0, Inf]\n",
    "def jra_ml_mse(y_true, y_pred):\n",
    "  a = np.power((y_pred - y_true), 2).sum()\n",
    "  x = a / len(y_true)\n",
    "  return(x)"
   ]
  },
  {
   "cell_type": "code",
   "execution_count": null,
   "metadata": {},
   "outputs": [],
   "source": []
  }
 ],
 "metadata": {
  "kernelspec": {
   "display_name": "pythonupskill",
   "language": "python",
   "name": "python3"
  },
  "language_info": {
   "codemirror_mode": {
    "name": "ipython",
    "version": 3
   },
   "file_extension": ".py",
   "mimetype": "text/x-python",
   "name": "python",
   "nbconvert_exporter": "python",
   "pygments_lexer": "ipython3",
   "version": "3.11.5"
  }
 },
 "nbformat": 4,
 "nbformat_minor": 2
}
