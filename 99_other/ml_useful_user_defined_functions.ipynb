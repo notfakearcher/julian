{
 "cells": [
  {
   "cell_type": "markdown",
   "metadata": {},
   "source": [
    "# Import Libraries"
   ]
  },
  {
   "cell_type": "code",
   "execution_count": 1,
   "metadata": {},
   "outputs": [],
   "source": [
    "import numpy as np\n",
    "import pandas as pd\n",
    "import matplotlib.pyplot as plt\n",
    "from matplotlib.colors import ListedColormap"
   ]
  },
  {
   "cell_type": "markdown",
   "metadata": {},
   "source": [
    "# User-Defined Functions"
   ]
  },
  {
   "cell_type": "code",
   "execution_count": 2,
   "metadata": {},
   "outputs": [],
   "source": [
    "# function for plotting segments\n",
    "def jra_plot_segments(X, y, classifier_fit, colors_contour, colors_scatter, title):\n",
    "  X_values, y_values = X, y\n",
    "  X1_min = X_values[:,0].min() - 1\n",
    "  X2_min = X_values[:,1].min() - 1\n",
    "  X2_max = X_values[:,1].max() + 1\n",
    "  X1_max = X_values[:,0].max() + 1\n",
    "  X1_values = np.arange(X1_min, X1_max, 0.01)\n",
    "  X2_values = np.arange(X2_min, X2_max, 0.01)\n",
    "\n",
    "  X1, X2 = np.meshgrid(X1_values, X2_values)\n",
    "\n",
    "  X_fill = np.array([X1.ravel(), X2.ravel()]).T\n",
    "  y_hat_fill = classifier_fit.predict(X_fill).reshape(X1.shape)\n",
    "  y_hat_fill\n",
    "\n",
    "  for i, j in enumerate(np.unique(y_values)):\n",
    "    plt.scatter(\n",
    "      X_values[y_values == j, 0], \n",
    "      X_values[y_values == j, 1],\n",
    "      color = colors_scatter[i],\n",
    "      label = j\n",
    "    )\n",
    "    \n",
    "  plt.contourf(X1, X2, y_hat_fill.astype('float'), \n",
    "    alpha = 0.5,\n",
    "    cmap = ListedColormap(colors_contour)  # https://matplotlib.org/stable/users/explain/colors/colormaps.html\n",
    "  )\n",
    "  plt.xlim(X1_min, X1_max)\n",
    "  plt.ylim(X2_min, X2_max)\n",
    "  plt.title(title)\n",
    "  plt.xlabel('PC1')\n",
    "  plt.ylabel('PC2')\n",
    "  plt.legend()\n",
    "  # plt.show()"
   ]
  }
 ],
 "metadata": {
  "kernelspec": {
   "display_name": "pythonupskill",
   "language": "python",
   "name": "python3"
  },
  "language_info": {
   "codemirror_mode": {
    "name": "ipython",
    "version": 3
   },
   "file_extension": ".py",
   "mimetype": "text/x-python",
   "name": "python",
   "nbconvert_exporter": "python",
   "pygments_lexer": "ipython3",
   "version": "3.11.5"
  }
 },
 "nbformat": 4,
 "nbformat_minor": 2
}
