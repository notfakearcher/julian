{
 "cells": [
  {
   "cell_type": "markdown",
   "metadata": {},
   "source": [
    "# t-Test: Population Mean (Variance Unknown)"
   ]
  },
  {
   "cell_type": "markdown",
   "metadata": {},
   "source": [
    "## Overview"
   ]
  },
  {
   "cell_type": "markdown",
   "metadata": {},
   "source": [
    "The goal of this test is to determine if there is a sgnificant difference \\\n",
    "between an assumed (known) population mean $(\\mu_0)$ and a measured \\\n",
    "sample mean $(\\bar{x})$."
   ]
  },
  {
   "cell_type": "markdown",
   "metadata": {},
   "source": [
    "## Limitation"
   ]
  },
  {
   "cell_type": "markdown",
   "metadata": {},
   "source": [
    "This test assumes the population is normally distributed.\\\n",
    "If population is not normally distributed then test is \"approximate.\""
   ]
  },
  {
   "cell_type": "markdown",
   "metadata": {},
   "source": [
    "## Example Problem "
   ]
  },
  {
   "cell_type": "markdown",
   "metadata": {},
   "source": [
    "My wife assumes that a specific type of penguin from \"region a\" have an \\\n",
    "average height of 30 inches. I was able to collect a sample of 15 of these \\\n",
    "penguins and found that the mean height was 35 inches, with standard \\\n",
    "deviation of 1.5 inches. Did my wife pproximate the penguin height correctly \\\n",
    "or was her estimate significantly higher or lower than the average?\n",
    "\n",
    "Let's solve in python..."
   ]
  },
  {
   "cell_type": "markdown",
   "metadata": {},
   "source": [
    "## Step 0: Import Python Libraries"
   ]
  },
  {
   "cell_type": "code",
   "execution_count": 1,
   "metadata": {},
   "outputs": [],
   "source": [
    "import numpy as np\n",
    "import scipy.stats as ss"
   ]
  },
  {
   "cell_type": "markdown",
   "metadata": {},
   "source": [
    "## Step 1: Establish Hypothesis"
   ]
  },
  {
   "cell_type": "markdown",
   "metadata": {},
   "source": [
    "Null Hypothesis $(H_0)$ :  $\\mu = \\mu_0$ \\\n",
    "Alternate Hypothesis $(H_1)$ :  $\\mu \\ne \\mu_0$"
   ]
  },
  {
   "cell_type": "markdown",
   "metadata": {},
   "source": [
    "## Step 2: Compute Test Statistic"
   ]
  },
  {
   "cell_type": "code",
   "execution_count": 2,
   "metadata": {},
   "outputs": [
    {
     "data": {
      "text/plain": [
       "12.91"
      ]
     },
     "execution_count": 2,
     "metadata": {},
     "output_type": "execute_result"
    }
   ],
   "source": [
    "# population mean \n",
    "mu_0 = 30\n",
    "\n",
    "# sample size \n",
    "n = 15 \n",
    "\n",
    "# sample mean\n",
    "x_bar = 35\n",
    "\n",
    "# sample standard deviation \n",
    "std = 1.5\n",
    "\n",
    "# sample average deviation from population mean\n",
    "mean_deviation = x_bar - mu_0\n",
    "\n",
    "# standard error\n",
    "se = std / np.sqrt(n)\n",
    " \n",
    "# test statistic (t-statistic)\n",
    "t_statistic = mean_deviation / se\n",
    "t_statistic = t_statistic.round(2)\n",
    "\n",
    "t_statistic"
   ]
  },
  {
   "cell_type": "markdown",
   "metadata": {},
   "source": [
    "## Step 3: Determine Critical t-value"
   ]
  },
  {
   "cell_type": "code",
   "execution_count": 3,
   "metadata": {},
   "outputs": [
    {
     "data": {
      "text/plain": [
       "2.14"
      ]
     },
     "execution_count": 3,
     "metadata": {},
     "output_type": "execute_result"
    }
   ],
   "source": [
    "# assumed alpha (type I - error level) = 5%\n",
    "alpha = 0.05\n",
    "\n",
    "# degrees of freedom\n",
    "nu = n - 1  \n",
    "\n",
    "# lower-tail probability (2-tailed test)\n",
    "q = 1 - (alpha / 2)\n",
    "\n",
    "# probability that raw score (x) > t_statistic\n",
    "t_critical = ss.t.ppf(q = q, df = nu).round(2)\n",
    "\n",
    "t_critical"
   ]
  },
  {
   "cell_type": "markdown",
   "metadata": {},
   "source": [
    "## Step 4: Establish Rejection Region"
   ]
  },
  {
   "cell_type": "markdown",
   "metadata": {},
   "source": [
    "Reject Null Hypothesis if |t_statistic| > |t_critical|"
   ]
  },
  {
   "cell_type": "markdown",
   "metadata": {},
   "source": [
    "## Step 5: Conclusion"
   ]
  },
  {
   "cell_type": "code",
   "execution_count": 4,
   "metadata": {},
   "outputs": [
    {
     "name": "stdout",
     "output_type": "stream",
     "text": [
      "At significance level alpha = 0.05, given sample size of n = 15,\n",
      "sample average = 35, and sample standard deviation = 1.5, we\n",
      "reject null hypothesis that average region a penguin height\n",
      "is equal to 30.\n"
     ]
    }
   ],
   "source": [
    "if np.abs(t_statistic) > np.abs(t_critical):\n",
    "  decision = 'reject'\n",
    "else:\n",
    "  decision = 'fail to reject'\n",
    "\n",
    "# state conclusion\n",
    "txt = f'At significance level alpha = {alpha}, given sample size of n = {n},\\n\\\n",
    "sample average = {x_bar}, and sample standard deviation = {std}, we\\n\\\n",
    "{decision} null hypothesis that average region a penguin height\\n\\\n",
    "is equal to {mu_0}.'\n",
    "\n",
    "print(txt)"
   ]
  },
  {
   "cell_type": "markdown",
   "metadata": {},
   "source": [
    "## Convert Code To Function"
   ]
  },
  {
   "cell_type": "code",
   "execution_count": 5,
   "metadata": {},
   "outputs": [],
   "source": [
    "def jra_t_test_population_mean(mu_0, n, x_bar, std, alpha):\n",
    "  # sample average deviation from population mean\n",
    "  mean_deviation = x_bar - mu_0\n",
    "\n",
    "  # standard error\n",
    "  se = std / np.sqrt(n)\n",
    "  \n",
    "  # test statistic (t-statistic)\n",
    "  t_statistic = mean_deviation / se\n",
    "  t_statistic = t_statistic.round(2)\n",
    "\n",
    "  # degrees of freedom\n",
    "  nu = n - 1  \n",
    "\n",
    "  # lower-tail probability (2-tailed test)\n",
    "  q = 1 - (alpha / 2)\n",
    "\n",
    "  # probability that raw score (x) > t_statistic\n",
    "  t_critical = ss.t.ppf(q = q, df = nu).round(2)\n",
    "  \n",
    "  if np.abs(t_statistic) > np.abs(t_critical):\n",
    "    decision = 'reject'\n",
    "  else:\n",
    "    decision = 'fail to reject'\n",
    "\n",
    "  # state conclusion\n",
    "  a = f'At significance level alpha = {alpha}, given sample size of n = {n},\\n'\n",
    "  b = f'sample average = {x_bar}, and sample standard deviation = {std}, we\\n'\n",
    "  c = f'{decision} null hypothesis that average region a penguin height\\n'\n",
    "  d = f'is equal to {mu_0}.'\n",
    "  txt = a + b + c + d\n",
    "  \n",
    "  return print(txt)"
   ]
  },
  {
   "cell_type": "markdown",
   "metadata": {},
   "source": [
    "## Test Function"
   ]
  },
  {
   "cell_type": "code",
   "execution_count": 6,
   "metadata": {},
   "outputs": [
    {
     "name": "stdout",
     "output_type": "stream",
     "text": [
      "At significance level alpha = 0.05, given sample size of n = 15,\n",
      "sample average = 30.0, and sample standard deviation = 1.5, we\n",
      "fail to reject null hypothesis that average region a penguin height\n",
      "is equal to 30.\n",
      "\n",
      "\n",
      "At significance level alpha = 0.05, given sample size of n = 15,\n",
      "sample average = 30.5, and sample standard deviation = 1.5, we\n",
      "fail to reject null hypothesis that average region a penguin height\n",
      "is equal to 30.\n",
      "\n",
      "\n",
      "At significance level alpha = 0.05, given sample size of n = 15,\n",
      "sample average = 31.0, and sample standard deviation = 1.5, we\n",
      "reject null hypothesis that average region a penguin height\n",
      "is equal to 30.\n",
      "\n",
      "\n",
      "At significance level alpha = 0.05, given sample size of n = 15,\n",
      "sample average = 31.5, and sample standard deviation = 1.5, we\n",
      "reject null hypothesis that average region a penguin height\n",
      "is equal to 30.\n",
      "\n",
      "\n"
     ]
    }
   ],
   "source": [
    "for x_bar in np.arange(30, 32, 0.5):\n",
    "  jra_t_test_population_mean(mu_0, n, x_bar.round(2), std, alpha)\n",
    "  # jra_t_test_population_mean(mu_0, n, x_bar, std, alpha) # has precision error\n",
    "  print('\\n')"
   ]
  }
 ],
 "metadata": {
  "kernelspec": {
   "display_name": "pythonupskill",
   "language": "python",
   "name": "python3"
  },
  "language_info": {
   "codemirror_mode": {
    "name": "ipython",
    "version": 3
   },
   "file_extension": ".py",
   "mimetype": "text/x-python",
   "name": "python",
   "nbconvert_exporter": "python",
   "pygments_lexer": "ipython3",
   "version": "3.11.5"
  }
 },
 "nbformat": 4,
 "nbformat_minor": 2
}
