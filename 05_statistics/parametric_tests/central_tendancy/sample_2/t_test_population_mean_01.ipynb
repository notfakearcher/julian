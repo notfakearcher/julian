{
 "cells": [
  {
   "cell_type": "markdown",
   "metadata": {},
   "source": [
    "# t-Test: 2 Population Means (Variance Unknown and Equal)"
   ]
  },
  {
   "cell_type": "markdown",
   "metadata": {},
   "source": [
    "## Overview"
   ]
  },
  {
   "cell_type": "markdown",
   "metadata": {},
   "source": [
    "The goal of this test is to determine if there is a sgnificant difference \\\n",
    "between two population means $(\\mu_1,\\mu_2)$."
   ]
  },
  {
   "cell_type": "markdown",
   "metadata": {},
   "source": [
    "## Limitation"
   ]
  },
  {
   "cell_type": "markdown",
   "metadata": {},
   "source": [
    "This test assumesboth populations are normally distributed.\\\n",
    "If populations are not normally distributed then test is \"approximate.\""
   ]
  },
  {
   "cell_type": "markdown",
   "metadata": {},
   "source": [
    "## Example Problem "
   ]
  },
  {
   "cell_type": "markdown",
   "metadata": {},
   "source": [
    "My wife assumes that a specific type of penguin from \"region b\" has a \\\n",
    "taller average height compared with penguins from \"region a.\" I was able \\\n",
    "to collect a sample of 20 penguin heights from both regions as follows. \\\n",
    "The mean height of penguins from \"region a\" was 37 inches, with standard \\\n",
    "deviation of 0.8 inches. The mean height of penguins from \"region b\" was \\\n",
    "40 inches, with standard deviation of 0.8 inches. Was my wife's assumption \\\n",
    "correct?\n",
    "\n",
    "Let's solve in python..."
   ]
  },
  {
   "cell_type": "markdown",
   "metadata": {},
   "source": [
    "## Step 0: Import Python Libraries"
   ]
  },
  {
   "cell_type": "code",
   "execution_count": 1,
   "metadata": {},
   "outputs": [],
   "source": [
    "import numpy as np\n",
    "import scipy.stats as ss"
   ]
  },
  {
   "cell_type": "markdown",
   "metadata": {},
   "source": [
    "## Step 1: Establish Hypothesis"
   ]
  },
  {
   "cell_type": "markdown",
   "metadata": {},
   "source": [
    "Null Hypothesis $(H_0)$ :  $\\mu_2 = \\mu_1$ \\\n",
    "Alternate Hypothesis $(H_1)$ :  $\\mu_2 \\gt \\mu_1$ \\\n",
    "\n",
    "or\n",
    "\n",
    "Null Hypothesis $(H_0)$ :  $(\\mu_2 - \\mu_1) = 0$ \\\n",
    "Alternate Hypothesis $(H_1)$ : $(\\mu_2 - \\mu_1) > 0$"
   ]
  },
  {
   "cell_type": "markdown",
   "metadata": {},
   "source": [
    "## Step 2: Compute Test Statistic"
   ]
  },
  {
   "cell_type": "code",
   "execution_count": 2,
   "metadata": {},
   "outputs": [
    {
     "data": {
      "text/plain": [
       "11.86"
      ]
     },
     "execution_count": 2,
     "metadata": {},
     "output_type": "execute_result"
    }
   ],
   "source": [
    "# sample 1 size \n",
    "n1 = 20\n",
    "\n",
    "# sample 2 size \n",
    "n2 = n1\n",
    "\n",
    "# sample 1 mean\n",
    "x_bar_1 = 37\n",
    "\n",
    "# sample 1 mean\n",
    "x_bar_2 = 40\n",
    "\n",
    "# sample standard deviation (same for both groups)\n",
    "std = 0.8\n",
    "\n",
    "# difference in sample means (note mu2 - mu1 = 0 so not ncluded in numerator)\n",
    "mean_difference = x_bar_2 - x_bar_1\n",
    "\n",
    "# standard error\n",
    "a = (1 / n1) + (1 / n2)\n",
    "se = std * np.sqrt(a)\n",
    " \n",
    "# test statistic (t-statistic)\n",
    "t_statistic = mean_difference / se\n",
    "t_statistic = t_statistic.round(2)\n",
    "\n",
    "t_statistic"
   ]
  },
  {
   "cell_type": "markdown",
   "metadata": {},
   "source": [
    "## Step 3: Determine Critical t-value"
   ]
  },
  {
   "cell_type": "code",
   "execution_count": 3,
   "metadata": {},
   "outputs": [
    {
     "data": {
      "text/plain": [
       "1.69"
      ]
     },
     "execution_count": 3,
     "metadata": {},
     "output_type": "execute_result"
    }
   ],
   "source": [
    "# assumed alpha (type I - error level) = 5%\n",
    "alpha = 0.05\n",
    "\n",
    "# degrees of freedom\n",
    "nu = n1 + n2 - 2  \n",
    "\n",
    "# lower-tail probability (1-tailed test)\n",
    "q = 1 - alpha\n",
    "\n",
    "# probability that raw score (x) > t_statistic\n",
    "t_critical = ss.t.ppf(q = q, df = nu).round(2)\n",
    "\n",
    "t_critical"
   ]
  },
  {
   "cell_type": "markdown",
   "metadata": {},
   "source": [
    "## Step 4: Establish Rejection Region"
   ]
  },
  {
   "cell_type": "markdown",
   "metadata": {},
   "source": [
    "Reject Null Hypothesis if |t_statistic| > |t_critical|"
   ]
  },
  {
   "cell_type": "markdown",
   "metadata": {},
   "source": [
    "## Step 5: Conclusion"
   ]
  },
  {
   "cell_type": "code",
   "execution_count": 31,
   "metadata": {},
   "outputs": [
    {
     "name": "stdout",
     "output_type": "stream",
     "text": [
      "At significance level alpha = 0.05, given sample sizes n1 = 20,\n",
      "n2 = 20, sample1 and sample 2 averages = {37, 40} and \n",
      "sample1 and sample2 standard deviations = 0.8, we reject null \n",
      "hypothesis that average region b penguin height is equal to region a\n",
      "penguin height. We statistically claim  region b penguin height is greater than\n",
      "region b penguin height.\n"
     ]
    }
   ],
   "source": [
    "if np.abs(t_statistic) > np.abs(t_critical):\n",
    "  decision = 'reject'\n",
    "  claim = 'greater than'\n",
    "else:\n",
    "  decision = 'fail to reject'\n",
    "  claim = 'equal to'\n",
    "\n",
    "# state conclusion\n",
    "txt = f'At significance level alpha = {alpha}, given sample sizes n1 = {n1},\\n\\\n",
    "n2 = {n2}, sample1 and sample 2 averages = {{{x_bar_1}, {x_bar_2}}} and \\n\\\n",
    "sample1 and sample2 standard deviations = {std}, we {decision} null \\n\\\n",
    "hypothesis that average region b penguin height is equal to region a\\n\\\n",
    "penguin height. We statistically claim  region b penguin height is {claim}\\n\\\n",
    "region b penguin height.'\n",
    "\n",
    "print(txt)"
   ]
  },
  {
   "cell_type": "markdown",
   "metadata": {},
   "source": [
    "## Convert Code To Function"
   ]
  },
  {
   "cell_type": "code",
   "execution_count": 53,
   "metadata": {},
   "outputs": [],
   "source": [
    "def jra_t_test_population_mean(x_bar_1, x_bar_2, n1, n2, std, alpha):\n",
    " # difference in sample means (note mu2 - mu1 = 0 so not ncluded in numerator)\n",
    "  mean_difference = x_bar_2 - x_bar_1\n",
    "\n",
    "  # standard error\n",
    "  a = (1 / n1) + (1 / n2)\n",
    "  se = std * np.sqrt(a)\n",
    "  \n",
    "  # test statistic (t-statistic)\n",
    "  t_statistic = mean_difference / se\n",
    "  t_statistic = t_statistic.round(2)\n",
    "\n",
    "  # assumed alpha (type I - error level) = 5%\n",
    "  alpha = 0.05\n",
    "\n",
    "  # degrees of freedom\n",
    "  nu = n1 + n2 - 2  \n",
    "\n",
    "  # lower-tail probability (1-tailed test)\n",
    "  q = 1 - alpha\n",
    "\n",
    "  # probability that raw score (x) > t_statistic\n",
    "  t_critical = ss.t.ppf(q = q, df = nu).round(2)\n",
    "  \n",
    "  if np.abs(t_statistic) > np.abs(t_critical):\n",
    "    decision = 'reject'\n",
    "    claim = 'greater than'\n",
    "  else:\n",
    "    decision = 'fail to reject'\n",
    "    claim = 'equal to'\n",
    "\n",
    "  # state conclusion\n",
    "  txt = f'  At significance level alpha = {alpha}, given sample sizes n1 = {n1},\\n\\\n",
    "  n2 = {n2}, sample1 and sample 2 averages = {{{x_bar_1}, {x_bar_2}}} and \\n\\\n",
    "  sample1 and sample2 standard deviations = {std}, we {decision} null \\n\\\n",
    "  hypothesis that average region b penguin height is equal to region a\\n\\\n",
    "  penguin height. We statistically claim  region b penguin height is {claim}\\n\\\n",
    "  region b penguin height.'\n",
    "  \n",
    "  return print(txt)"
   ]
  },
  {
   "cell_type": "markdown",
   "metadata": {},
   "source": [
    "## Test Function"
   ]
  },
  {
   "cell_type": "code",
   "execution_count": 54,
   "metadata": {},
   "outputs": [
    {
     "name": "stdout",
     "output_type": "stream",
     "text": [
      "  At significance level alpha = 0.05, given sample sizes n1 = 20,\n",
      "  n2 = 20, sample1 and sample 2 averages = {37, 40} and \n",
      "  sample1 and sample2 standard deviations = 0.8, we reject null \n",
      "  hypothesis that average region b penguin height is equal to region a\n",
      "  penguin height. We statistically claim  region b penguin height is greater than\n",
      "  region b penguin height.\n"
     ]
    }
   ],
   "source": [
    "jra_t_test_population_mean(x_bar_1, x_bar_2, n1, n2, std, alpha)"
   ]
  }
 ],
 "metadata": {
  "kernelspec": {
   "display_name": "pythonupskill",
   "language": "python",
   "name": "python3"
  },
  "language_info": {
   "codemirror_mode": {
    "name": "ipython",
    "version": 3
   },
   "file_extension": ".py",
   "mimetype": "text/x-python",
   "name": "python",
   "nbconvert_exporter": "python",
   "pygments_lexer": "ipython3",
   "version": "3.11.5"
  }
 },
 "nbformat": 4,
 "nbformat_minor": 2
}
