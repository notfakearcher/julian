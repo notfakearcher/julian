{
 "cells": [
  {
   "cell_type": "markdown",
   "metadata": {},
   "source": [
    "# t-Test: 2 Population Means (Variance Unknown and Unequal)"
   ]
  },
  {
   "cell_type": "markdown",
   "metadata": {},
   "source": [
    "## Overview"
   ]
  },
  {
   "cell_type": "markdown",
   "metadata": {},
   "source": [
    "The goal of this test is to determine if there is a sgnificant difference \\\n",
    "between two population means $(\\mu_1,\\mu_2)$."
   ]
  },
  {
   "cell_type": "markdown",
   "metadata": {},
   "source": [
    "## Limitation"
   ]
  },
  {
   "cell_type": "markdown",
   "metadata": {},
   "source": [
    "(1) \\\n",
    "This test assumes both populations are normally distributed.\\\n",
    "If populations are not normally distributed then test is \"approximate.\"\n",
    "\n",
    "(2) \\\n",
    "This test only measures if $\\mu_2 = \\mu_1$ and $\\mu_2 \\ne \\mu_1$\n",
    "\n"
   ]
  },
  {
   "cell_type": "markdown",
   "metadata": {},
   "source": [
    "## Example Problem "
   ]
  },
  {
   "cell_type": "markdown",
   "metadata": {},
   "source": [
    "My wife would like to buy a penguin however she is unable to decide between\\\n",
    "Species A penguin and Species B penguin. She cares about the speed at which\\\n",
    "the penguins can walk, but I told her they all walk slow and it doesn't matter.\\\n",
    "My wife \"insists\" so we observe 10 penguins from Species A and then 13 from\\\n",
    "Species B in terms of their speed over 5 meters. The results are as follows.\n",
    "\n",
    "Species A: average speed = 0.67 m/s, standard deviation = 0.3 m/s\\\n",
    "Species B: average speed = 0.58 m/s, standard deviation = 0.6 m/s\n",
    "\n",
    "Does it really matter which penguin we get?\\\n",
    "Let's solve in python..."
   ]
  },
  {
   "cell_type": "markdown",
   "metadata": {},
   "source": [
    "## Step 0: Import Python Libraries"
   ]
  },
  {
   "cell_type": "code",
   "execution_count": 1,
   "metadata": {},
   "outputs": [],
   "source": [
    "import numpy as np\n",
    "import scipy.stats as ss"
   ]
  },
  {
   "cell_type": "markdown",
   "metadata": {},
   "source": [
    "## Step 1: Establish Hypothesis"
   ]
  },
  {
   "cell_type": "markdown",
   "metadata": {},
   "source": [
    "Null Hypothesis $(H_0)$ :  $\\mu_2 = \\mu_1$ \\\n",
    "Alternate Hypothesis $(H_1)$ :  $\\mu_2 \\ne \\mu_1$"
   ]
  },
  {
   "cell_type": "markdown",
   "metadata": {},
   "source": [
    "## Step 2: Compute Test Statistic"
   ]
  },
  {
   "cell_type": "code",
   "execution_count": 2,
   "metadata": {},
   "outputs": [
    {
     "data": {
      "text/plain": [
       "-0.34"
      ]
     },
     "execution_count": 2,
     "metadata": {},
     "output_type": "execute_result"
    }
   ],
   "source": [
    "# sample 1 size \n",
    "n1 = 10\n",
    "\n",
    "# sample 2 size \n",
    "n2 = 13\n",
    "\n",
    "# sample 1 mean\n",
    "x_bar_1 = 0.67\n",
    "\n",
    "# sample 1 mean\n",
    "x_bar_2 = 0.58\n",
    "\n",
    "# sample 1 standard deviation\n",
    "std1 = 0.3\n",
    "\n",
    "# sample 2 standard deviation\n",
    "std2 = 0.6\n",
    "\n",
    "# difference in sample means (note mu2 - mu1 = 0 so not ncluded in numerator)\n",
    "mean_difference = x_bar_2 - x_bar_1\n",
    "\n",
    "# standard error\n",
    "a = std1 / np.sqrt(n1)\n",
    "b = std2 / np.sqrt(n2)\n",
    "se = a + b\n",
    " \n",
    "# test statistic (t-statistic)\n",
    "t_statistic = mean_difference / se\n",
    "t_statistic = t_statistic.round(2)\n",
    "\n",
    "t_statistic"
   ]
  },
  {
   "cell_type": "markdown",
   "metadata": {},
   "source": [
    "## Step 3: Determine Critical t-value"
   ]
  },
  {
   "cell_type": "code",
   "execution_count": 5,
   "metadata": {},
   "outputs": [
    {
     "data": {
      "text/plain": [
       "2.0"
      ]
     },
     "execution_count": 5,
     "metadata": {},
     "output_type": "execute_result"
    }
   ],
   "source": [
    "# assumed alpha (type I - error level) = 5%\n",
    "alpha = 0.05\n",
    "\n",
    "# degrees of freedom\n",
    "part_1 = np.power(se, 4)\n",
    "part_21 = np.power(std1, 4) / (np.power(n1, 3) - np.power(n1, 2))\n",
    "part_22 = np.power(std2, 4) / (np.power(n2, 3) - np.power(n2, 2))\n",
    "nu = part_1 / (part_21 + part_22)\n",
    "\n",
    "# lower-tail probability (2-tailed test)\n",
    "q = 1 - (alpha / 2)\n",
    "\n",
    "# probability that raw score (x) > t_statistic\n",
    "t_critical = ss.t.ppf(q = q, df = nu).round(2)\n",
    "\n",
    "t_critical"
   ]
  },
  {
   "cell_type": "markdown",
   "metadata": {},
   "source": [
    "## Step 4: Establish Rejection Region"
   ]
  },
  {
   "cell_type": "markdown",
   "metadata": {},
   "source": [
    "Reject Null Hypothesis if |t_statistic| > |t_critical|"
   ]
  },
  {
   "cell_type": "markdown",
   "metadata": {},
   "source": [
    "## Step 5: Conclusion"
   ]
  },
  {
   "cell_type": "code",
   "execution_count": 15,
   "metadata": {},
   "outputs": [
    {
     "name": "stdout",
     "output_type": "stream",
     "text": [
      "Given all statistical circumsances around the problem we\n",
      "fail to reject null hypothesis so it does not matter which penguin we buy.\n"
     ]
    }
   ],
   "source": [
    "if np.abs(t_statistic) > np.abs(t_critical):\n",
    "  decision = 'reject null hypothesis so it matters which penguin we buy.'\n",
    "else:\n",
    "  decision = 'fail to reject null hypothesis so it does not matter which penguin we buy.'\n",
    "\n",
    "# state conclusion\n",
    "txt = f'Given all statistical circumsances around the problem we\\n{decision}'\n",
    "\n",
    "print(txt)"
   ]
  },
  {
   "cell_type": "markdown",
   "metadata": {},
   "source": [
    "## Convert Code To Function"
   ]
  },
  {
   "cell_type": "code",
   "execution_count": 19,
   "metadata": {},
   "outputs": [],
   "source": [
    "def jra_t_test_population_mean(x_bar_1, x_bar_2, n1, n2, std1, std2, alpha):\n",
    "  # difference in sample means (note mu2 - mu1 = 0 so not ncluded in numerator)\n",
    "  mean_difference = x_bar_2 - x_bar_1\n",
    "\n",
    "  # standard error\n",
    "  a = std1 / np.sqrt(n1)\n",
    "  b = std2 / np.sqrt(n2)\n",
    "  se = a + b\n",
    "  \n",
    "  # test statistic (t-statistic)\n",
    "  t_statistic = mean_difference / se\n",
    "  t_statistic = t_statistic.round(2)\n",
    "  \n",
    "  # assumed alpha (type I - error level) = 5%\n",
    "  alpha = 0.05\n",
    "\n",
    "  # degrees of freedom\n",
    "  part_1 = np.power(se, 4)\n",
    "  part_21 = np.power(std1, 4) / (np.power(n1, 3) - np.power(n1, 2))\n",
    "  part_22 = np.power(std2, 4) / (np.power(n2, 3) - np.power(n2, 2))\n",
    "  nu = part_1 / (part_21 + part_22)\n",
    "\n",
    "  # lower-tail probability (2-tailed test)\n",
    "  q = 1 - (alpha / 2)\n",
    "\n",
    "  # probability that raw score (x) > t_statistic\n",
    "  t_critical = ss.t.ppf(q = q, df = nu).round(2)\n",
    "\n",
    "  if np.abs(t_statistic) > np.abs(t_critical):\n",
    "    decision = 'reject null hypothesis so it matters which penguin we buy.'\n",
    "  else:\n",
    "    decision = 'fail to reject null hypothesis so it does not matter which penguin we buy.'\n",
    "\n",
    "  # state conclusion\n",
    "  txt = f'Given all statistical circumsances around the problem we\\n{decision}'\n",
    "\n",
    "  return print(txt)"
   ]
  },
  {
   "cell_type": "markdown",
   "metadata": {},
   "source": [
    "## Test Function"
   ]
  },
  {
   "cell_type": "code",
   "execution_count": 21,
   "metadata": {},
   "outputs": [
    {
     "name": "stdout",
     "output_type": "stream",
     "text": [
      "Given all statistical circumsances around the problem we\n",
      "fail to reject null hypothesis so it does not matter which penguin we buy.\n"
     ]
    }
   ],
   "source": [
    "jra_t_test_population_mean(x_bar_1, x_bar_2, n1, n2, std1, std2, alpha)"
   ]
  }
 ],
 "metadata": {
  "kernelspec": {
   "display_name": "pythonupskill",
   "language": "python",
   "name": "python3"
  },
  "language_info": {
   "codemirror_mode": {
    "name": "ipython",
    "version": 3
   },
   "file_extension": ".py",
   "mimetype": "text/x-python",
   "name": "python",
   "nbconvert_exporter": "python",
   "pygments_lexer": "ipython3",
   "version": "3.11.5"
  }
 },
 "nbformat": 4,
 "nbformat_minor": 2
}
