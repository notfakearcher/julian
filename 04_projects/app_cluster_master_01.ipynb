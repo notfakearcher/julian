{
 "cells": [
  {
   "cell_type": "markdown",
   "metadata": {},
   "source": [
    "# Application: Cluster Master"
   ]
  },
  {
   "cell_type": "markdown",
   "metadata": {},
   "source": [
    "## Overview"
   ]
  },
  {
   "cell_type": "markdown",
   "metadata": {},
   "source": [
    "\n",
    "Application Description: \n",
    "  - Takes in a dataset\n",
    "  - Allows users to select specific target columns\n",
    "  - Generate clusters based on selected columns\n",
    "  - Make predicions to cluster labels based on newly uploaded data\n",
    "\n",
    "Inputs:\n",
    "  1. ...\n",
    "\n",
    "Outputs:\n",
    "  1. ...\n",
    "\n",
    "---\n",
    "---\n",
    "Version.Release: \n",
    "  - 01.01\n",
    "\n",
    "Author: \n",
    "  - Julian Archer, PhD\n",
    "\n",
    "Links: \n",
    "  - Github: https://github.com/notfakearcher/julian\n",
    "  - LinkedIn: https://www.linkedin.com/in/archerj"
   ]
  },
  {
   "cell_type": "markdown",
   "metadata": {},
   "source": [
    "## Import Python Libraries"
   ]
  },
  {
   "cell_type": "code",
   "execution_count": 2,
   "metadata": {},
   "outputs": [],
   "source": [
    "import streamlit as st\n",
    "import numpy as np\n",
    "import pandas as pd\n",
    "import matplotlib.pyplot as plt\n",
    "from matplotlib.colors import ListedColormap\n",
    "import seaborn as sns\n",
    "import re\n",
    "from sklearn.model_selection import train_test_split\n",
    "from sklearn.preprocessing import LabelEncoder, StandardScaler\n",
    "from sklearn.decomposition import PCA\n",
    "from sklearn.cluster import AgglomerativeClustering, BisectingKMeans, KMeans, OPTICS, DBSCAN, HDBSCAN,SpectralClustering\n",
    "from scipy.cluster.hierarchy import dendrogram, linkage, set_link_color_palette\n",
    "from sklearn.metrics import silhouette_score, silhouette_samples\n",
    "from sklearn.utils import resample"
   ]
  }
 ],
 "metadata": {
  "kernelspec": {
   "display_name": "pythonupskill",
   "language": "python",
   "name": "python3"
  },
  "language_info": {
   "codemirror_mode": {
    "name": "ipython",
    "version": 3
   },
   "file_extension": ".py",
   "mimetype": "text/x-python",
   "name": "python",
   "nbconvert_exporter": "python",
   "pygments_lexer": "ipython3",
   "version": "3.11.5"
  }
 },
 "nbformat": 4,
 "nbformat_minor": 2
}
