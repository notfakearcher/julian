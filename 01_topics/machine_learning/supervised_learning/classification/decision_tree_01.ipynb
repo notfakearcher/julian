{
 "cells": [
  {
   "cell_type": "markdown",
   "metadata": {},
   "source": [
    "# Decision Tree"
   ]
  },
  {
   "cell_type": "markdown",
   "metadata": {},
   "source": [
    "## References"
   ]
  },
  {
   "cell_type": "markdown",
   "metadata": {},
   "source": [
    "https://www.kaggle.com/datasets/kadirduran/hr-dataset"
   ]
  },
  {
   "cell_type": "markdown",
   "metadata": {},
   "source": [
    "## Import Python Libraries"
   ]
  },
  {
   "cell_type": "code",
   "execution_count": 510,
   "metadata": {},
   "outputs": [],
   "source": [
    "import numpy as np\n",
    "import pandas as pd\n",
    "import matplotlib.pyplot as plt\n",
    "import seaborn as sns\n",
    "import re\n",
    "from sklearn.model_selection import train_test_split\n",
    "from sklearn.feature_selection import VarianceThreshold, SelectKBest, f_classif, RFE, SelectFromModel\n",
    "from sklearn.preprocessing import LabelEncoder, StandardScaler, RobustScaler, MinMaxScaler\n",
    "from sklearn.tree import DecisionTreeClassifier\n",
    "from sklearn.linear_model import LogisticRegression\n",
    "from sklearn.svm import SVC\n",
    "from sklearn.ensemble import RandomForestClassifier\n",
    "from sklearn.discriminant_analysis import LinearDiscriminantAnalysis\n",
    "from sklearn.metrics import confusion_matrix, ConfusionMatrixDisplay, classification_report\n",
    "from sklearn.utils import resample"
   ]
  },
  {
   "cell_type": "markdown",
   "metadata": {},
   "source": [
    "## Global Variables"
   ]
  },
  {
   "cell_type": "code",
   "execution_count": 511,
   "metadata": {},
   "outputs": [],
   "source": [
    "# random state \n",
    "random_state = 4781\n",
    "# random_state = 7644\n",
    "\n",
    "# colors\n",
    "c_scale = 256\n",
    "c1 = (1, 1, 1) # grey\n",
    "c2 = (1, 0, 0) # red\n",
    "c3 = (181/c_scale, 204/c_scale, 6/c_scale) # yellow\n",
    "c4 = (6/c_scale, 122/c_scale, 204/c_scale) # blue\n",
    "c5 = (0, 0, 0) # black"
   ]
  },
  {
   "cell_type": "markdown",
   "metadata": {},
   "source": [
    "## Import Dataset"
   ]
  },
  {
   "cell_type": "code",
   "execution_count": 512,
   "metadata": {},
   "outputs": [],
   "source": [
    "# Source: https://www.kaggle.com/datasets/kadirduran/hr-dataset\n",
    "\n",
    "# Dataset Column Overview: \n",
    "# ------------------------------------------------------------------------------\n",
    "\n",
    "# X1: satisfaction_level : It is employee satisfaction point, which ranges from 0-1.\n",
    "# X2: last_evaluation : It is evaluated performance by the employer, which also ranges from 0-1.\n",
    "# X3: number_projects : How many of projects assigned to an employee?\n",
    "# X4: average_monthly_hours: How many hours in averega an employee worked in a month?\n",
    "# X5: time_spent_company : time_spent_company means employee experience. The number of years spent by an employee in the company.\n",
    "# X6: work_accident : Whether an employee has had a work accident or not.\n",
    "# X7: promotion_last_5years: Whether an employee has had a promotion in the last 5 years or not.\n",
    "# X8: Departments : Employee's working department/division.\n",
    "# X9: Salary : Salary level of the employee such as low, medium and high.\n",
    "#  y: left : Whether the employee has left the company or not."
   ]
  },
  {
   "cell_type": "code",
   "execution_count": 513,
   "metadata": {},
   "outputs": [
    {
     "data": {
      "text/html": [
       "<div>\n",
       "<style scoped>\n",
       "    .dataframe tbody tr th:only-of-type {\n",
       "        vertical-align: middle;\n",
       "    }\n",
       "\n",
       "    .dataframe tbody tr th {\n",
       "        vertical-align: top;\n",
       "    }\n",
       "\n",
       "    .dataframe thead th {\n",
       "        text-align: right;\n",
       "    }\n",
       "</style>\n",
       "<table border=\"1\" class=\"dataframe\">\n",
       "  <thead>\n",
       "    <tr style=\"text-align: right;\">\n",
       "      <th></th>\n",
       "      <th>satisfaction_level</th>\n",
       "      <th>last_evaluation</th>\n",
       "      <th>number_project</th>\n",
       "      <th>average_montly_hours</th>\n",
       "      <th>time_spend_company</th>\n",
       "      <th>Work_accident</th>\n",
       "      <th>left</th>\n",
       "      <th>promotion_last_5years</th>\n",
       "      <th>Departments</th>\n",
       "      <th>salary</th>\n",
       "    </tr>\n",
       "  </thead>\n",
       "  <tbody>\n",
       "    <tr>\n",
       "      <th>0</th>\n",
       "      <td>0.38</td>\n",
       "      <td>0.53</td>\n",
       "      <td>2</td>\n",
       "      <td>157</td>\n",
       "      <td>3</td>\n",
       "      <td>0</td>\n",
       "      <td>1</td>\n",
       "      <td>0</td>\n",
       "      <td>sales</td>\n",
       "      <td>low</td>\n",
       "    </tr>\n",
       "    <tr>\n",
       "      <th>1</th>\n",
       "      <td>0.80</td>\n",
       "      <td>0.86</td>\n",
       "      <td>5</td>\n",
       "      <td>262</td>\n",
       "      <td>6</td>\n",
       "      <td>0</td>\n",
       "      <td>1</td>\n",
       "      <td>0</td>\n",
       "      <td>sales</td>\n",
       "      <td>medium</td>\n",
       "    </tr>\n",
       "    <tr>\n",
       "      <th>2</th>\n",
       "      <td>0.11</td>\n",
       "      <td>0.88</td>\n",
       "      <td>7</td>\n",
       "      <td>272</td>\n",
       "      <td>4</td>\n",
       "      <td>0</td>\n",
       "      <td>1</td>\n",
       "      <td>0</td>\n",
       "      <td>sales</td>\n",
       "      <td>medium</td>\n",
       "    </tr>\n",
       "    <tr>\n",
       "      <th>3</th>\n",
       "      <td>0.72</td>\n",
       "      <td>0.87</td>\n",
       "      <td>5</td>\n",
       "      <td>223</td>\n",
       "      <td>5</td>\n",
       "      <td>0</td>\n",
       "      <td>1</td>\n",
       "      <td>0</td>\n",
       "      <td>sales</td>\n",
       "      <td>low</td>\n",
       "    </tr>\n",
       "    <tr>\n",
       "      <th>4</th>\n",
       "      <td>0.37</td>\n",
       "      <td>0.52</td>\n",
       "      <td>2</td>\n",
       "      <td>159</td>\n",
       "      <td>3</td>\n",
       "      <td>0</td>\n",
       "      <td>1</td>\n",
       "      <td>0</td>\n",
       "      <td>sales</td>\n",
       "      <td>low</td>\n",
       "    </tr>\n",
       "  </tbody>\n",
       "</table>\n",
       "</div>"
      ],
      "text/plain": [
       "   satisfaction_level  last_evaluation  number_project  average_montly_hours  \\\n",
       "0                0.38             0.53               2                   157   \n",
       "1                0.80             0.86               5                   262   \n",
       "2                0.11             0.88               7                   272   \n",
       "3                0.72             0.87               5                   223   \n",
       "4                0.37             0.52               2                   159   \n",
       "\n",
       "   time_spend_company  Work_accident  left  promotion_last_5years  \\\n",
       "0                   3              0     1                      0   \n",
       "1                   6              0     1                      0   \n",
       "2                   4              0     1                      0   \n",
       "3                   5              0     1                      0   \n",
       "4                   3              0     1                      0   \n",
       "\n",
       "  Departments   salary  \n",
       "0        sales     low  \n",
       "1        sales  medium  \n",
       "2        sales  medium  \n",
       "3        sales     low  \n",
       "4        sales     low  "
      ]
     },
     "execution_count": 513,
     "metadata": {},
     "output_type": "execute_result"
    }
   ],
   "source": [
    "# load heart.csv dataset from github\n",
    "filepath1 = 'https://raw.githubusercontent.com/notfakearcher/julian/main/02_data/hr_dataset.csv'\n",
    "df0 = pd.read_csv(filepath1, header = 0)\n",
    "df0.head()"
   ]
  },
  {
   "cell_type": "code",
   "execution_count": 514,
   "metadata": {},
   "outputs": [],
   "source": [
    "# identify X_cols and y_col\n",
    "all_cols = df0.columns.values.copy()\n",
    "y_col = 'left'\n",
    "cond1 = all_cols != y_col\n",
    "X_cols = all_cols[cond1]"
   ]
  },
  {
   "cell_type": "code",
   "execution_count": 515,
   "metadata": {},
   "outputs": [
    {
     "data": {
      "text/html": [
       "<div>\n",
       "<style scoped>\n",
       "    .dataframe tbody tr th:only-of-type {\n",
       "        vertical-align: middle;\n",
       "    }\n",
       "\n",
       "    .dataframe tbody tr th {\n",
       "        vertical-align: top;\n",
       "    }\n",
       "\n",
       "    .dataframe thead th {\n",
       "        text-align: right;\n",
       "    }\n",
       "</style>\n",
       "<table border=\"1\" class=\"dataframe\">\n",
       "  <thead>\n",
       "    <tr style=\"text-align: right;\">\n",
       "      <th></th>\n",
       "      <th>X1</th>\n",
       "      <th>X2</th>\n",
       "      <th>X3</th>\n",
       "      <th>X4</th>\n",
       "      <th>X5</th>\n",
       "      <th>X6</th>\n",
       "      <th>y</th>\n",
       "      <th>X7</th>\n",
       "      <th>X8</th>\n",
       "      <th>X9</th>\n",
       "    </tr>\n",
       "  </thead>\n",
       "  <tbody>\n",
       "    <tr>\n",
       "      <th>0</th>\n",
       "      <td>0.38</td>\n",
       "      <td>0.53</td>\n",
       "      <td>2</td>\n",
       "      <td>157</td>\n",
       "      <td>3</td>\n",
       "      <td>0</td>\n",
       "      <td>1</td>\n",
       "      <td>0</td>\n",
       "      <td>sales</td>\n",
       "      <td>low</td>\n",
       "    </tr>\n",
       "    <tr>\n",
       "      <th>1</th>\n",
       "      <td>0.80</td>\n",
       "      <td>0.86</td>\n",
       "      <td>5</td>\n",
       "      <td>262</td>\n",
       "      <td>6</td>\n",
       "      <td>0</td>\n",
       "      <td>1</td>\n",
       "      <td>0</td>\n",
       "      <td>sales</td>\n",
       "      <td>medium</td>\n",
       "    </tr>\n",
       "    <tr>\n",
       "      <th>2</th>\n",
       "      <td>0.11</td>\n",
       "      <td>0.88</td>\n",
       "      <td>7</td>\n",
       "      <td>272</td>\n",
       "      <td>4</td>\n",
       "      <td>0</td>\n",
       "      <td>1</td>\n",
       "      <td>0</td>\n",
       "      <td>sales</td>\n",
       "      <td>medium</td>\n",
       "    </tr>\n",
       "    <tr>\n",
       "      <th>3</th>\n",
       "      <td>0.72</td>\n",
       "      <td>0.87</td>\n",
       "      <td>5</td>\n",
       "      <td>223</td>\n",
       "      <td>5</td>\n",
       "      <td>0</td>\n",
       "      <td>1</td>\n",
       "      <td>0</td>\n",
       "      <td>sales</td>\n",
       "      <td>low</td>\n",
       "    </tr>\n",
       "    <tr>\n",
       "      <th>4</th>\n",
       "      <td>0.37</td>\n",
       "      <td>0.52</td>\n",
       "      <td>2</td>\n",
       "      <td>159</td>\n",
       "      <td>3</td>\n",
       "      <td>0</td>\n",
       "      <td>1</td>\n",
       "      <td>0</td>\n",
       "      <td>sales</td>\n",
       "      <td>low</td>\n",
       "    </tr>\n",
       "  </tbody>\n",
       "</table>\n",
       "</div>"
      ],
      "text/plain": [
       "     X1    X2  X3   X4  X5  X6  y  X7     X8      X9\n",
       "0  0.38  0.53   2  157   3   0  1   0  sales     low\n",
       "1  0.80  0.86   5  262   6   0  1   0  sales  medium\n",
       "2  0.11  0.88   7  272   4   0  1   0  sales  medium\n",
       "3  0.72  0.87   5  223   5   0  1   0  sales     low\n",
       "4  0.37  0.52   2  159   3   0  1   0  sales     low"
      ]
     },
     "execution_count": 515,
     "metadata": {},
     "output_type": "execute_result"
    }
   ],
   "source": [
    "# standardize column names\n",
    "df1 = df0.copy()\n",
    "zeros = len(str(len(X_cols)))\n",
    "new_all_cols = all_cols\n",
    "temp = (np.arange(0, len(X_cols)) + 1).astype('str')\n",
    "\n",
    "new_y_col = 'y'\n",
    "new_X_cols = ['X' + i.zfill(zeros) for i in temp]\n",
    "\n",
    "new_all_cols[cond1] = new_X_cols\n",
    "new_all_cols[~cond1] = new_y_col\n",
    "\n",
    "df1.columns = new_all_cols\n",
    "\n",
    "df1.head()"
   ]
  },
  {
   "cell_type": "code",
   "execution_count": 516,
   "metadata": {},
   "outputs": [
    {
     "name": "stdout",
     "output_type": "stream",
     "text": [
      "<class 'pandas.core.frame.DataFrame'>\n",
      "RangeIndex: 14999 entries, 0 to 14998\n",
      "Data columns (total 10 columns):\n",
      " #   Column  Non-Null Count  Dtype  \n",
      "---  ------  --------------  -----  \n",
      " 0   X1      14999 non-null  float64\n",
      " 1   X2      14999 non-null  float64\n",
      " 2   X3      14999 non-null  int64  \n",
      " 3   X4      14999 non-null  int64  \n",
      " 4   X5      14999 non-null  int64  \n",
      " 5   X6      14999 non-null  int64  \n",
      " 6   y       14999 non-null  int64  \n",
      " 7   X7      14999 non-null  int64  \n",
      " 8   X8      14999 non-null  object \n",
      " 9   X9      14999 non-null  object \n",
      "dtypes: float64(2), int64(6), object(2)\n",
      "memory usage: 1.1+ MB\n"
     ]
    }
   ],
   "source": [
    "# check data structure\n",
    "df1.info()"
   ]
  },
  {
   "cell_type": "code",
   "execution_count": 517,
   "metadata": {},
   "outputs": [
    {
     "data": {
      "text/html": [
       "<div>\n",
       "<style scoped>\n",
       "    .dataframe tbody tr th:only-of-type {\n",
       "        vertical-align: middle;\n",
       "    }\n",
       "\n",
       "    .dataframe tbody tr th {\n",
       "        vertical-align: top;\n",
       "    }\n",
       "\n",
       "    .dataframe thead th {\n",
       "        text-align: right;\n",
       "    }\n",
       "</style>\n",
       "<table border=\"1\" class=\"dataframe\">\n",
       "  <thead>\n",
       "    <tr style=\"text-align: right;\">\n",
       "      <th></th>\n",
       "      <th>X1</th>\n",
       "      <th>X2</th>\n",
       "      <th>X3</th>\n",
       "      <th>X4</th>\n",
       "      <th>X5</th>\n",
       "      <th>X6</th>\n",
       "      <th>y</th>\n",
       "      <th>X7</th>\n",
       "    </tr>\n",
       "  </thead>\n",
       "  <tbody>\n",
       "    <tr>\n",
       "      <th>count</th>\n",
       "      <td>14999.000000</td>\n",
       "      <td>14999.000000</td>\n",
       "      <td>14999.000000</td>\n",
       "      <td>14999.000000</td>\n",
       "      <td>14999.000000</td>\n",
       "      <td>14999.000000</td>\n",
       "      <td>14999.000000</td>\n",
       "      <td>14999.000000</td>\n",
       "    </tr>\n",
       "    <tr>\n",
       "      <th>mean</th>\n",
       "      <td>0.612834</td>\n",
       "      <td>0.716102</td>\n",
       "      <td>3.803054</td>\n",
       "      <td>201.050337</td>\n",
       "      <td>3.498233</td>\n",
       "      <td>0.144610</td>\n",
       "      <td>0.238083</td>\n",
       "      <td>0.021268</td>\n",
       "    </tr>\n",
       "    <tr>\n",
       "      <th>std</th>\n",
       "      <td>0.248631</td>\n",
       "      <td>0.171169</td>\n",
       "      <td>1.232592</td>\n",
       "      <td>49.943099</td>\n",
       "      <td>1.460136</td>\n",
       "      <td>0.351719</td>\n",
       "      <td>0.425924</td>\n",
       "      <td>0.144281</td>\n",
       "    </tr>\n",
       "    <tr>\n",
       "      <th>min</th>\n",
       "      <td>0.090000</td>\n",
       "      <td>0.360000</td>\n",
       "      <td>2.000000</td>\n",
       "      <td>96.000000</td>\n",
       "      <td>2.000000</td>\n",
       "      <td>0.000000</td>\n",
       "      <td>0.000000</td>\n",
       "      <td>0.000000</td>\n",
       "    </tr>\n",
       "    <tr>\n",
       "      <th>25%</th>\n",
       "      <td>0.440000</td>\n",
       "      <td>0.560000</td>\n",
       "      <td>3.000000</td>\n",
       "      <td>156.000000</td>\n",
       "      <td>3.000000</td>\n",
       "      <td>0.000000</td>\n",
       "      <td>0.000000</td>\n",
       "      <td>0.000000</td>\n",
       "    </tr>\n",
       "    <tr>\n",
       "      <th>50%</th>\n",
       "      <td>0.640000</td>\n",
       "      <td>0.720000</td>\n",
       "      <td>4.000000</td>\n",
       "      <td>200.000000</td>\n",
       "      <td>3.000000</td>\n",
       "      <td>0.000000</td>\n",
       "      <td>0.000000</td>\n",
       "      <td>0.000000</td>\n",
       "    </tr>\n",
       "    <tr>\n",
       "      <th>75%</th>\n",
       "      <td>0.820000</td>\n",
       "      <td>0.870000</td>\n",
       "      <td>5.000000</td>\n",
       "      <td>245.000000</td>\n",
       "      <td>4.000000</td>\n",
       "      <td>0.000000</td>\n",
       "      <td>0.000000</td>\n",
       "      <td>0.000000</td>\n",
       "    </tr>\n",
       "    <tr>\n",
       "      <th>max</th>\n",
       "      <td>1.000000</td>\n",
       "      <td>1.000000</td>\n",
       "      <td>7.000000</td>\n",
       "      <td>310.000000</td>\n",
       "      <td>10.000000</td>\n",
       "      <td>1.000000</td>\n",
       "      <td>1.000000</td>\n",
       "      <td>1.000000</td>\n",
       "    </tr>\n",
       "  </tbody>\n",
       "</table>\n",
       "</div>"
      ],
      "text/plain": [
       "                 X1            X2            X3            X4            X5  \\\n",
       "count  14999.000000  14999.000000  14999.000000  14999.000000  14999.000000   \n",
       "mean       0.612834      0.716102      3.803054    201.050337      3.498233   \n",
       "std        0.248631      0.171169      1.232592     49.943099      1.460136   \n",
       "min        0.090000      0.360000      2.000000     96.000000      2.000000   \n",
       "25%        0.440000      0.560000      3.000000    156.000000      3.000000   \n",
       "50%        0.640000      0.720000      4.000000    200.000000      3.000000   \n",
       "75%        0.820000      0.870000      5.000000    245.000000      4.000000   \n",
       "max        1.000000      1.000000      7.000000    310.000000     10.000000   \n",
       "\n",
       "                 X6             y            X7  \n",
       "count  14999.000000  14999.000000  14999.000000  \n",
       "mean       0.144610      0.238083      0.021268  \n",
       "std        0.351719      0.425924      0.144281  \n",
       "min        0.000000      0.000000      0.000000  \n",
       "25%        0.000000      0.000000      0.000000  \n",
       "50%        0.000000      0.000000      0.000000  \n",
       "75%        0.000000      0.000000      0.000000  \n",
       "max        1.000000      1.000000      1.000000  "
      ]
     },
     "execution_count": 517,
     "metadata": {},
     "output_type": "execute_result"
    }
   ],
   "source": [
    "# describe data\n",
    "df1.describe()"
   ]
  },
  {
   "cell_type": "code",
   "execution_count": 518,
   "metadata": {},
   "outputs": [
    {
     "data": {
      "text/plain": [
       "X1    14999\n",
       "X2    14999\n",
       "X3    14999\n",
       "X4    14999\n",
       "X5    14999\n",
       "X6    14999\n",
       "y     14999\n",
       "X7    14999\n",
       "X8    14999\n",
       "X9    14999\n",
       "dtype: int64"
      ]
     },
     "execution_count": 518,
     "metadata": {},
     "output_type": "execute_result"
    }
   ],
   "source": [
    "# check missing values\n",
    "df1.count()"
   ]
  },
  {
   "cell_type": "markdown",
   "metadata": {},
   "source": [
    "## Data Cleaning"
   ]
  },
  {
   "cell_type": "markdown",
   "metadata": {},
   "source": [
    "Not Needed"
   ]
  },
  {
   "cell_type": "markdown",
   "metadata": {},
   "source": [
    "## Transform Dataset"
   ]
  },
  {
   "cell_type": "code",
   "execution_count": 519,
   "metadata": {},
   "outputs": [
    {
     "data": {
      "text/html": [
       "<div>\n",
       "<style scoped>\n",
       "    .dataframe tbody tr th:only-of-type {\n",
       "        vertical-align: middle;\n",
       "    }\n",
       "\n",
       "    .dataframe tbody tr th {\n",
       "        vertical-align: top;\n",
       "    }\n",
       "\n",
       "    .dataframe thead th {\n",
       "        text-align: right;\n",
       "    }\n",
       "</style>\n",
       "<table border=\"1\" class=\"dataframe\">\n",
       "  <thead>\n",
       "    <tr style=\"text-align: right;\">\n",
       "      <th></th>\n",
       "      <th>X1</th>\n",
       "      <th>X2</th>\n",
       "      <th>X3</th>\n",
       "      <th>X4</th>\n",
       "      <th>X5</th>\n",
       "      <th>X6</th>\n",
       "      <th>y</th>\n",
       "      <th>X7</th>\n",
       "      <th>X8</th>\n",
       "      <th>X9</th>\n",
       "    </tr>\n",
       "  </thead>\n",
       "  <tbody>\n",
       "    <tr>\n",
       "      <th>0</th>\n",
       "      <td>0.38</td>\n",
       "      <td>0.53</td>\n",
       "      <td>2</td>\n",
       "      <td>157</td>\n",
       "      <td>3</td>\n",
       "      <td>0</td>\n",
       "      <td>1</td>\n",
       "      <td>0</td>\n",
       "      <td>7</td>\n",
       "      <td>1</td>\n",
       "    </tr>\n",
       "    <tr>\n",
       "      <th>1</th>\n",
       "      <td>0.80</td>\n",
       "      <td>0.86</td>\n",
       "      <td>5</td>\n",
       "      <td>262</td>\n",
       "      <td>6</td>\n",
       "      <td>0</td>\n",
       "      <td>1</td>\n",
       "      <td>0</td>\n",
       "      <td>7</td>\n",
       "      <td>2</td>\n",
       "    </tr>\n",
       "    <tr>\n",
       "      <th>2</th>\n",
       "      <td>0.11</td>\n",
       "      <td>0.88</td>\n",
       "      <td>7</td>\n",
       "      <td>272</td>\n",
       "      <td>4</td>\n",
       "      <td>0</td>\n",
       "      <td>1</td>\n",
       "      <td>0</td>\n",
       "      <td>7</td>\n",
       "      <td>2</td>\n",
       "    </tr>\n",
       "    <tr>\n",
       "      <th>3</th>\n",
       "      <td>0.72</td>\n",
       "      <td>0.87</td>\n",
       "      <td>5</td>\n",
       "      <td>223</td>\n",
       "      <td>5</td>\n",
       "      <td>0</td>\n",
       "      <td>1</td>\n",
       "      <td>0</td>\n",
       "      <td>7</td>\n",
       "      <td>1</td>\n",
       "    </tr>\n",
       "    <tr>\n",
       "      <th>4</th>\n",
       "      <td>0.37</td>\n",
       "      <td>0.52</td>\n",
       "      <td>2</td>\n",
       "      <td>159</td>\n",
       "      <td>3</td>\n",
       "      <td>0</td>\n",
       "      <td>1</td>\n",
       "      <td>0</td>\n",
       "      <td>7</td>\n",
       "      <td>1</td>\n",
       "    </tr>\n",
       "  </tbody>\n",
       "</table>\n",
       "</div>"
      ],
      "text/plain": [
       "     X1    X2  X3   X4  X5  X6  y  X7  X8  X9\n",
       "0  0.38  0.53   2  157   3   0  1   0   7   1\n",
       "1  0.80  0.86   5  262   6   0  1   0   7   2\n",
       "2  0.11  0.88   7  272   4   0  1   0   7   2\n",
       "3  0.72  0.87   5  223   5   0  1   0   7   1\n",
       "4  0.37  0.52   2  159   3   0  1   0   7   1"
      ]
     },
     "execution_count": 519,
     "metadata": {},
     "output_type": "execute_result"
    }
   ],
   "source": [
    "# encode X08 to numerical values\n",
    "le = LabelEncoder()\n",
    "df1[['X8','X9']] = df1[['X8','X9']].apply(le.fit_transform)\n",
    "\n",
    "df1.head()"
   ]
  },
  {
   "cell_type": "code",
   "execution_count": 520,
   "metadata": {},
   "outputs": [
    {
     "data": {
      "text/plain": [
       "'y'"
      ]
     },
     "execution_count": 520,
     "metadata": {},
     "output_type": "execute_result"
    }
   ],
   "source": [
    "# response column\n",
    "y_col = new_y_col\n",
    "y_col"
   ]
  },
  {
   "cell_type": "code",
   "execution_count": 521,
   "metadata": {},
   "outputs": [
    {
     "data": {
      "text/plain": [
       "Index(['X1', 'X2', 'X3', 'X4', 'X5', 'X6', 'X7', 'X8', 'X9'], dtype='object')"
      ]
     },
     "execution_count": 521,
     "metadata": {},
     "output_type": "execute_result"
    }
   ],
   "source": [
    "# predictor columns\n",
    "cond1 = df1.columns != y_col\n",
    "X_cols = df1.columns[cond1]\n",
    "X_cols"
   ]
  },
  {
   "cell_type": "code",
   "execution_count": 522,
   "metadata": {},
   "outputs": [
    {
     "data": {
      "text/plain": [
       "{0: 'left', 1: 'stayed'}"
      ]
     },
     "execution_count": 522,
     "metadata": {},
     "output_type": "execute_result"
    }
   ],
   "source": [
    "# get unique y_labels\n",
    "y_labels = ['left', 'stayed']\n",
    "# y_labels = {y_labels[i]: i for i in range(len(y_labels))}\n",
    "y_labels = {i:y_labels[i] for i in range(len(y_labels))}\n",
    "y_labels"
   ]
  },
  {
   "cell_type": "code",
   "execution_count": 523,
   "metadata": {},
   "outputs": [
    {
     "data": {
      "text/html": [
       "<div>\n",
       "<style scoped>\n",
       "    .dataframe tbody tr th:only-of-type {\n",
       "        vertical-align: middle;\n",
       "    }\n",
       "\n",
       "    .dataframe tbody tr th {\n",
       "        vertical-align: top;\n",
       "    }\n",
       "\n",
       "    .dataframe thead th {\n",
       "        text-align: right;\n",
       "    }\n",
       "</style>\n",
       "<table border=\"1\" class=\"dataframe\">\n",
       "  <thead>\n",
       "    <tr style=\"text-align: right;\">\n",
       "      <th></th>\n",
       "      <th>X1</th>\n",
       "      <th>X2</th>\n",
       "      <th>X3</th>\n",
       "      <th>X4</th>\n",
       "      <th>X5</th>\n",
       "      <th>X6</th>\n",
       "      <th>y</th>\n",
       "      <th>X7</th>\n",
       "      <th>X8</th>\n",
       "      <th>X9</th>\n",
       "    </tr>\n",
       "  </thead>\n",
       "  <tbody>\n",
       "    <tr>\n",
       "      <th>0</th>\n",
       "      <td>0.38</td>\n",
       "      <td>0.53</td>\n",
       "      <td>2</td>\n",
       "      <td>157</td>\n",
       "      <td>3</td>\n",
       "      <td>0</td>\n",
       "      <td>stayed</td>\n",
       "      <td>0</td>\n",
       "      <td>7</td>\n",
       "      <td>1</td>\n",
       "    </tr>\n",
       "    <tr>\n",
       "      <th>1</th>\n",
       "      <td>0.80</td>\n",
       "      <td>0.86</td>\n",
       "      <td>5</td>\n",
       "      <td>262</td>\n",
       "      <td>6</td>\n",
       "      <td>0</td>\n",
       "      <td>stayed</td>\n",
       "      <td>0</td>\n",
       "      <td>7</td>\n",
       "      <td>2</td>\n",
       "    </tr>\n",
       "    <tr>\n",
       "      <th>2</th>\n",
       "      <td>0.11</td>\n",
       "      <td>0.88</td>\n",
       "      <td>7</td>\n",
       "      <td>272</td>\n",
       "      <td>4</td>\n",
       "      <td>0</td>\n",
       "      <td>stayed</td>\n",
       "      <td>0</td>\n",
       "      <td>7</td>\n",
       "      <td>2</td>\n",
       "    </tr>\n",
       "    <tr>\n",
       "      <th>3</th>\n",
       "      <td>0.72</td>\n",
       "      <td>0.87</td>\n",
       "      <td>5</td>\n",
       "      <td>223</td>\n",
       "      <td>5</td>\n",
       "      <td>0</td>\n",
       "      <td>stayed</td>\n",
       "      <td>0</td>\n",
       "      <td>7</td>\n",
       "      <td>1</td>\n",
       "    </tr>\n",
       "    <tr>\n",
       "      <th>4</th>\n",
       "      <td>0.37</td>\n",
       "      <td>0.52</td>\n",
       "      <td>2</td>\n",
       "      <td>159</td>\n",
       "      <td>3</td>\n",
       "      <td>0</td>\n",
       "      <td>stayed</td>\n",
       "      <td>0</td>\n",
       "      <td>7</td>\n",
       "      <td>1</td>\n",
       "    </tr>\n",
       "  </tbody>\n",
       "</table>\n",
       "</div>"
      ],
      "text/plain": [
       "     X1    X2  X3   X4  X5  X6       y  X7  X8  X9\n",
       "0  0.38  0.53   2  157   3   0  stayed   0   7   1\n",
       "1  0.80  0.86   5  262   6   0  stayed   0   7   2\n",
       "2  0.11  0.88   7  272   4   0  stayed   0   7   2\n",
       "3  0.72  0.87   5  223   5   0  stayed   0   7   1\n",
       "4  0.37  0.52   2  159   3   0  stayed   0   7   1"
      ]
     },
     "execution_count": 523,
     "metadata": {},
     "output_type": "execute_result"
    }
   ],
   "source": [
    "# rename y_labels\n",
    "df1.y = df1.y.replace(y_labels)\n",
    "df1.head()"
   ]
  },
  {
   "cell_type": "code",
   "execution_count": 524,
   "metadata": {},
   "outputs": [
    {
     "name": "stdout",
     "output_type": "stream",
     "text": [
      "left\n",
      "11428\n",
      "stayed\n",
      "3571\n",
      "7857\n",
      "<class 'pandas.core.frame.DataFrame'>\n",
      "RangeIndex: 22856 entries, 0 to 22855\n",
      "Data columns (total 10 columns):\n",
      " #   Column  Non-Null Count  Dtype  \n",
      "---  ------  --------------  -----  \n",
      " 0   X1      22856 non-null  float64\n",
      " 1   X2      22856 non-null  float64\n",
      " 2   X3      22856 non-null  int64  \n",
      " 3   X4      22856 non-null  int64  \n",
      " 4   X5      22856 non-null  int64  \n",
      " 5   X6      22856 non-null  int64  \n",
      " 6   y       22856 non-null  object \n",
      " 7   X7      22856 non-null  int64  \n",
      " 8   X8      22856 non-null  int32  \n",
      " 9   X9      22856 non-null  int32  \n",
      "dtypes: float64(2), int32(2), int64(5), object(1)\n",
      "memory usage: 1.6+ MB\n"
     ]
    }
   ],
   "source": [
    "# check label distribution\n",
    "temp = list(y_labels.values())\n",
    "cond1 = df1.y == temp[0]\n",
    "cond2 = df1.y == temp[1]\n",
    "\n",
    "n_1 = np.sum(cond1)\n",
    "print(temp[0])\n",
    "print(n_1)\n",
    "\n",
    "n_2 = np.sum(cond2)\n",
    "print(temp[1])\n",
    "print(n_2)\n",
    "\n",
    "# upsample minority label\n",
    "df_temp = df1.loc[cond2,:]\n",
    "n_diff = n_1 - n_2\n",
    "print(n_diff)\n",
    "\n",
    "df_upsample = resample(\n",
    "  df_temp,\n",
    "  replace = True,\n",
    "  n_samples = n_diff,\n",
    "  random_state = random_state\n",
    ")\n",
    "\n",
    "# update df1\n",
    "df1 = pd.concat([df1, df_upsample], ignore_index = True)\n",
    "df1.info()"
   ]
  },
  {
   "cell_type": "code",
   "execution_count": 525,
   "metadata": {},
   "outputs": [],
   "source": [
    "# # check label distribution\n",
    "# temp = list(y_labels.values())\n",
    "# cond1 = df1.y == temp[0]\n",
    "# cond2 = df1.y == temp[1]\n",
    "\n",
    "# n_1 = np.sum(cond1)\n",
    "# print(temp[0])\n",
    "# print(n_1)\n",
    "\n",
    "# n_2 = np.sum(cond2)\n",
    "# print(temp[1])\n",
    "# print(n_2)\n",
    "\n",
    "# # downsample majority label\n",
    "# df_temp = df1.loc[cond1,:]\n",
    "# n_diff = n_1 - n_2\n",
    "# print(n_diff)\n",
    "\n",
    "# df_upsample = resample(\n",
    "#   df_temp,\n",
    "#   replace = False,\n",
    "#   n_samples = n_diff,\n",
    "#   random_state = random_state\n",
    "# )\n",
    "\n",
    "# # # update df1\n",
    "# df1 = df1.drop(df_upsample.index)\n",
    "# df1.info()"
   ]
  },
  {
   "cell_type": "code",
   "execution_count": 526,
   "metadata": {},
   "outputs": [
    {
     "data": {
      "text/html": [
       "<div>\n",
       "<style scoped>\n",
       "    .dataframe tbody tr th:only-of-type {\n",
       "        vertical-align: middle;\n",
       "    }\n",
       "\n",
       "    .dataframe tbody tr th {\n",
       "        vertical-align: top;\n",
       "    }\n",
       "\n",
       "    .dataframe thead th {\n",
       "        text-align: right;\n",
       "    }\n",
       "</style>\n",
       "<table border=\"1\" class=\"dataframe\">\n",
       "  <thead>\n",
       "    <tr style=\"text-align: right;\">\n",
       "      <th></th>\n",
       "      <th>X1</th>\n",
       "      <th>X2</th>\n",
       "      <th>X3</th>\n",
       "      <th>X4</th>\n",
       "      <th>X5</th>\n",
       "      <th>X6</th>\n",
       "      <th>y</th>\n",
       "      <th>X7</th>\n",
       "      <th>X8</th>\n",
       "      <th>X9</th>\n",
       "    </tr>\n",
       "  </thead>\n",
       "  <tbody>\n",
       "    <tr>\n",
       "      <th>0</th>\n",
       "      <td>-0.439024</td>\n",
       "      <td>-0.617647</td>\n",
       "      <td>-0.666667</td>\n",
       "      <td>-0.48</td>\n",
       "      <td>0.0</td>\n",
       "      <td>0.0</td>\n",
       "      <td>stayed</td>\n",
       "      <td>0.0</td>\n",
       "      <td>0.0</td>\n",
       "      <td>0.0</td>\n",
       "    </tr>\n",
       "    <tr>\n",
       "      <th>1</th>\n",
       "      <td>0.585366</td>\n",
       "      <td>0.352941</td>\n",
       "      <td>0.333333</td>\n",
       "      <td>0.57</td>\n",
       "      <td>3.0</td>\n",
       "      <td>0.0</td>\n",
       "      <td>stayed</td>\n",
       "      <td>0.0</td>\n",
       "      <td>0.0</td>\n",
       "      <td>1.0</td>\n",
       "    </tr>\n",
       "    <tr>\n",
       "      <th>2</th>\n",
       "      <td>-1.097561</td>\n",
       "      <td>0.411765</td>\n",
       "      <td>1.000000</td>\n",
       "      <td>0.67</td>\n",
       "      <td>1.0</td>\n",
       "      <td>0.0</td>\n",
       "      <td>stayed</td>\n",
       "      <td>0.0</td>\n",
       "      <td>0.0</td>\n",
       "      <td>1.0</td>\n",
       "    </tr>\n",
       "    <tr>\n",
       "      <th>3</th>\n",
       "      <td>0.390244</td>\n",
       "      <td>0.382353</td>\n",
       "      <td>0.333333</td>\n",
       "      <td>0.18</td>\n",
       "      <td>2.0</td>\n",
       "      <td>0.0</td>\n",
       "      <td>stayed</td>\n",
       "      <td>0.0</td>\n",
       "      <td>0.0</td>\n",
       "      <td>0.0</td>\n",
       "    </tr>\n",
       "    <tr>\n",
       "      <th>4</th>\n",
       "      <td>-0.463415</td>\n",
       "      <td>-0.647059</td>\n",
       "      <td>-0.666667</td>\n",
       "      <td>-0.46</td>\n",
       "      <td>0.0</td>\n",
       "      <td>0.0</td>\n",
       "      <td>stayed</td>\n",
       "      <td>0.0</td>\n",
       "      <td>0.0</td>\n",
       "      <td>0.0</td>\n",
       "    </tr>\n",
       "  </tbody>\n",
       "</table>\n",
       "</div>"
      ],
      "text/plain": [
       "         X1        X2        X3    X4   X5   X6       y   X7   X8   X9\n",
       "0 -0.439024 -0.617647 -0.666667 -0.48  0.0  0.0  stayed  0.0  0.0  0.0\n",
       "1  0.585366  0.352941  0.333333  0.57  3.0  0.0  stayed  0.0  0.0  1.0\n",
       "2 -1.097561  0.411765  1.000000  0.67  1.0  0.0  stayed  0.0  0.0  1.0\n",
       "3  0.390244  0.382353  0.333333  0.18  2.0  0.0  stayed  0.0  0.0  0.0\n",
       "4 -0.463415 -0.647059 -0.666667 -0.46  0.0  0.0  stayed  0.0  0.0  0.0"
      ]
     },
     "execution_count": 526,
     "metadata": {},
     "output_type": "execute_result"
    }
   ],
   "source": [
    "# normalize all X_cols\n",
    "df2 = df1.copy()\n",
    "# norm = StandardScaler()\n",
    "# norm = MinMaxScaler()\n",
    "norm = RobustScaler()\n",
    "df2[X_cols] = norm.fit_transform(df2[X_cols])\n",
    "\n",
    "df2.head()"
   ]
  },
  {
   "cell_type": "code",
   "execution_count": 527,
   "metadata": {},
   "outputs": [],
   "source": [
    "# # remove outliers from each column\n",
    "# for X in X_cols:\n",
    "#   cond1 = ~((df2[X] >= 3) | (df2[X] <= -3))\n",
    "#   df2 = df2.loc[cond1,:]\n",
    "  \n",
    "# df2.info()"
   ]
  },
  {
   "cell_type": "code",
   "execution_count": 528,
   "metadata": {},
   "outputs": [
    {
     "data": {
      "text/html": [
       "<div>\n",
       "<style scoped>\n",
       "    .dataframe tbody tr th:only-of-type {\n",
       "        vertical-align: middle;\n",
       "    }\n",
       "\n",
       "    .dataframe tbody tr th {\n",
       "        vertical-align: top;\n",
       "    }\n",
       "\n",
       "    .dataframe thead th {\n",
       "        text-align: right;\n",
       "    }\n",
       "</style>\n",
       "<table border=\"1\" class=\"dataframe\">\n",
       "  <thead>\n",
       "    <tr style=\"text-align: right;\">\n",
       "      <th></th>\n",
       "      <th>y</th>\n",
       "      <th>X</th>\n",
       "      <th>X_value</th>\n",
       "    </tr>\n",
       "  </thead>\n",
       "  <tbody>\n",
       "    <tr>\n",
       "      <th>0</th>\n",
       "      <td>stayed</td>\n",
       "      <td>X1</td>\n",
       "      <td>-0.439024</td>\n",
       "    </tr>\n",
       "    <tr>\n",
       "      <th>1</th>\n",
       "      <td>stayed</td>\n",
       "      <td>X1</td>\n",
       "      <td>0.585366</td>\n",
       "    </tr>\n",
       "    <tr>\n",
       "      <th>2</th>\n",
       "      <td>stayed</td>\n",
       "      <td>X1</td>\n",
       "      <td>-1.097561</td>\n",
       "    </tr>\n",
       "    <tr>\n",
       "      <th>3</th>\n",
       "      <td>stayed</td>\n",
       "      <td>X1</td>\n",
       "      <td>0.390244</td>\n",
       "    </tr>\n",
       "    <tr>\n",
       "      <th>4</th>\n",
       "      <td>stayed</td>\n",
       "      <td>X1</td>\n",
       "      <td>-0.463415</td>\n",
       "    </tr>\n",
       "  </tbody>\n",
       "</table>\n",
       "</div>"
      ],
      "text/plain": [
       "        y   X   X_value\n",
       "0  stayed  X1 -0.439024\n",
       "1  stayed  X1  0.585366\n",
       "2  stayed  X1 -1.097561\n",
       "3  stayed  X1  0.390244\n",
       "4  stayed  X1 -0.463415"
      ]
     },
     "execution_count": 528,
     "metadata": {},
     "output_type": "execute_result"
    }
   ],
   "source": [
    "# melt df2 into a dataframe where cols become stacked as rows\n",
    "df3 = df2.melt(\n",
    "  id_vars = y_col,\n",
    "  value_vars = X_cols,\n",
    "  var_name = 'X',\n",
    "  value_name = \"X_value\"\n",
    ")\n",
    "df3.head()"
   ]
  },
  {
   "cell_type": "markdown",
   "metadata": {},
   "source": [
    "## Visualize Dataset"
   ]
  },
  {
   "cell_type": "code",
   "execution_count": 529,
   "metadata": {},
   "outputs": [],
   "source": [
    "# figure setup\n",
    "fig_cols = 3\n",
    "fig_rows = np.ceil(len(X_cols)/fig_cols).astype('int')\n",
    "y_max = np.round(df2[X_cols].max().max(), 0)\n",
    "y_min = np.round(df2[X_cols].min().min(), 0)\n",
    "n_levels = df2.y.unique().size\n",
    "palette1 = [c1 for i in range(n_levels)]\n",
    "palette2 = [c3, c4]\n",
    "figsize = (15, 15)"
   ]
  },
  {
   "cell_type": "code",
   "execution_count": 530,
   "metadata": {},
   "outputs": [
    {
     "data": {
      "image/png": "[encoded data removed]",
      "text/plain": [
       "<Figure size 1500x1500 with 9 Axes>"
      ]
     },
     "metadata": {},
     "output_type": "display_data"
    }
   ],
   "source": [
    "# subplot of y vs each X (stripplot + violinplot + boxenplot)\n",
    "f1, axes = plt.subplots(fig_rows, fig_cols, figsize = figsize)\n",
    "itr = 0\n",
    "for x in X_cols:\n",
    "  row = np.floor(itr/fig_cols) \n",
    "  row = row.astype('int')\n",
    "  col = np.mod(itr, fig_cols)\n",
    "  col = col.astype('int') \n",
    "  # print(row)\n",
    "  # print(col)\n",
    "  # p1 = sns.violinplot(ax = axes[row, col], data = df2, x = y_col, y = x, hue = y_col, palette = palette1)\n",
    "  p2 = sns.boxenplot(ax = axes[row, col], data = df2, x = y_col, y = x, hue = y_col, palette = palette1)\n",
    "  p3 = sns.stripplot(ax = axes[row, col], data = df2, x = y_col, y = x, color = c2, size = 1)\n",
    "  p4 = sns.pointplot(ax = axes[row, col], data = df2, x = y_col, y = x, color = c5, linewidth = 1)\n",
    "  axes[row, col].legend_ = None\n",
    "  # axes[row, col].set_ylim(y_min, y_max)\n",
    "  itr = itr + 1"
   ]
  },
  {
   "cell_type": "markdown",
   "metadata": {},
   "source": [
    "## Feature Selection"
   ]
  },
  {
   "cell_type": "markdown",
   "metadata": {},
   "source": [
    "### Remove Features Having % Similar Values or More"
   ]
  },
  {
   "cell_type": "code",
   "execution_count": 531,
   "metadata": {},
   "outputs": [
    {
     "name": "stdout",
     "output_type": "stream",
     "text": [
      "1 0\n"
     ]
    }
   ],
   "source": [
    "# porportion similar (p)\n",
    "p = 1\n",
    "# porportion dissimilar (q = 1- p)\n",
    "q = 1 - p\n",
    "\n",
    "print(p,q)"
   ]
  },
  {
   "cell_type": "code",
   "execution_count": 532,
   "metadata": {},
   "outputs": [],
   "source": [
    "# initialize variance threshold model (based on porportion dissimilar)\n",
    "myfit = VarianceThreshold(q)"
   ]
  },
  {
   "cell_type": "code",
   "execution_count": 533,
   "metadata": {},
   "outputs": [
    {
     "data": {
      "text/plain": [
       "(22856, 9)"
      ]
     },
     "execution_count": 533,
     "metadata": {},
     "output_type": "execute_result"
    }
   ],
   "source": [
    "# fit model\n",
    "temp = myfit.fit_transform(df2[X_cols])\n",
    "temp.shape"
   ]
  },
  {
   "cell_type": "code",
   "execution_count": 534,
   "metadata": {},
   "outputs": [
    {
     "data": {
      "text/plain": [
       "array(['X1', 'X2', 'X3', 'X4', 'X5', 'X6', 'X7', 'X8', 'X9'], dtype=object)"
      ]
     },
     "execution_count": 534,
     "metadata": {},
     "output_type": "execute_result"
    }
   ],
   "source": [
    "# get columns that have at least p-similar or q-disimilar values\n",
    "X_cols_var_threshold = myfit.get_feature_names_out()\n",
    "X_cols_var_threshold"
   ]
  },
  {
   "cell_type": "code",
   "execution_count": 535,
   "metadata": {},
   "outputs": [
    {
     "data": {
      "text/plain": [
       "array(['X1', 'X2', 'X3', 'X4', 'X5', 'X6', 'X7', 'X8', 'X9'], dtype=object)"
      ]
     },
     "execution_count": 535,
     "metadata": {},
     "output_type": "execute_result"
    }
   ],
   "source": [
    "# update X_cols\n",
    "X_cols = X_cols_var_threshold\n",
    "X_cols"
   ]
  },
  {
   "cell_type": "markdown",
   "metadata": {},
   "source": [
    "### Select Features Using Model Selection Methods"
   ]
  },
  {
   "cell_type": "code",
   "execution_count": 536,
   "metadata": {},
   "outputs": [],
   "source": [
    "# seperate data into X and y\n",
    "X = df2[X_cols]\n",
    "y = np.ravel(df2[y_col])"
   ]
  },
  {
   "cell_type": "code",
   "execution_count": 537,
   "metadata": {},
   "outputs": [],
   "source": [
    "# estimator model\n",
    "estimator_model = RandomForestClassifier(\n",
    "  n_estimators = 20,\n",
    "  max_depth = 1000,\n",
    "  criterion = 'gini',\n",
    "  random_state = random_state\n",
    ")    "
   ]
  },
  {
   "cell_type": "code",
   "execution_count": 538,
   "metadata": {},
   "outputs": [],
   "source": [
    "# fit estimmator model\n",
    "temp = estimator_model.fit(X, y)"
   ]
  },
  {
   "cell_type": "code",
   "execution_count": 539,
   "metadata": {},
   "outputs": [
    {
     "data": {
      "text/plain": [
       "array([0.31073653, 0.09759188, 0.15779283, 0.14872348, 0.25268931,\n",
       "       0.00668128, 0.00117052, 0.01521233, 0.00940185])"
      ]
     },
     "execution_count": 539,
     "metadata": {},
     "output_type": "execute_result"
    }
   ],
   "source": [
    "# feature importance values\n",
    "feature_importance = estimator_model.feature_importances_\n",
    "feature_importance"
   ]
  },
  {
   "cell_type": "code",
   "execution_count": 540,
   "metadata": {},
   "outputs": [
    {
     "data": {
      "text/plain": [
       "0.1111111111111111"
      ]
     },
     "execution_count": 540,
     "metadata": {},
     "output_type": "execute_result"
    }
   ],
   "source": [
    "# threshold feature importance\n",
    "feature_importance_threshold = np.mean(feature_importance)\n",
    "# feature_importance_threshold = np.median(feature_importance)\n",
    "# feature_importance_threshold = np.quantile(feature_importance, q = 0.5)\n",
    "feature_importance_threshold"
   ]
  },
  {
   "cell_type": "code",
   "execution_count": 541,
   "metadata": {},
   "outputs": [],
   "source": [
    "# initialize SelectFromModel\n",
    "myfit = SelectFromModel(\n",
    "  estimator = estimator_model,\n",
    "  threshold = feature_importance_threshold\n",
    ")"
   ]
  },
  {
   "cell_type": "code",
   "execution_count": 542,
   "metadata": {},
   "outputs": [],
   "source": [
    "# fit SelectFromModel\n",
    "temp = myfit.fit_transform(X, y)"
   ]
  },
  {
   "cell_type": "code",
   "execution_count": 543,
   "metadata": {},
   "outputs": [
    {
     "data": {
      "text/plain": [
       "array(['X1', 'X3', 'X4', 'X5'], dtype=object)"
      ]
     },
     "execution_count": 543,
     "metadata": {},
     "output_type": "execute_result"
    }
   ],
   "source": [
    "# get columns kept from ensemble - random forest feature selection\n",
    "X_cols_rf = myfit.get_feature_names_out()\n",
    "X_cols_rf"
   ]
  },
  {
   "cell_type": "markdown",
   "metadata": {},
   "source": [
    "## Train and Test ML Model"
   ]
  },
  {
   "cell_type": "code",
   "execution_count": 544,
   "metadata": {},
   "outputs": [
    {
     "name": "stdout",
     "output_type": "stream",
     "text": [
      "4\n",
      "['X1' 'X3' 'X4' 'X5']\n"
     ]
    }
   ],
   "source": [
    "# X_cols to include after feature selection\n",
    "# X_include = X.columns\n",
    "X_include = X_cols_rf\n",
    "print(len(X_include))\n",
    "print(X_include)"
   ]
  },
  {
   "cell_type": "code",
   "execution_count": 545,
   "metadata": {},
   "outputs": [],
   "source": [
    "# split data into train and test datasets\n",
    "X_train, X_test, y_train, y_test = train_test_split(X[X_include], y, \n",
    "  stratify = y, shuffle = True, \n",
    "  train_size = 0.8, random_state = random_state\n",
    ")"
   ]
  },
  {
   "cell_type": "code",
   "execution_count": 546,
   "metadata": {},
   "outputs": [],
   "source": [
    "# initialize Decision Tree model\n",
    "myfit = DecisionTreeClassifier(\n",
    "  criterion = 'gini',\n",
    "  # min_samples_split = 10,\n",
    "  random_state = random_state\n",
    ")"
   ]
  },
  {
   "cell_type": "code",
   "execution_count": 547,
   "metadata": {},
   "outputs": [],
   "source": [
    "# fit model\n",
    "temp = myfit.fit(X_train, y_train)"
   ]
  },
  {
   "cell_type": "code",
   "execution_count": 548,
   "metadata": {},
   "outputs": [],
   "source": [
    "# get predictions on test data\n",
    "y_hat = myfit.predict(X_test)"
   ]
  },
  {
   "cell_type": "code",
   "execution_count": 549,
   "metadata": {},
   "outputs": [
    {
     "data": {
      "image/png": "[encoded data removed]",
      "text/plain": [
       "<Figure size 640x480 with 2 Axes>"
      ]
     },
     "metadata": {},
     "output_type": "display_data"
    }
   ],
   "source": [
    "# model evaluation - confusion matrix\n",
    "\n",
    "# get confusion matrix\n",
    "cm = confusion_matrix(\n",
    "  y_true = y_test,\n",
    "  y_pred = y_hat\n",
    ")\n",
    "\n",
    "# show confusion matrix visual\n",
    "labels = myfit.classes_\n",
    "p1 = ConfusionMatrixDisplay(confusion_matrix = cm, display_labels = labels)\n",
    "p1.plot()\n",
    "plt.title('Evaluation Metric - Confusion Matrix')\n",
    "plt.show()"
   ]
  },
  {
   "cell_type": "code",
   "execution_count": 550,
   "metadata": {},
   "outputs": [
    {
     "name": "stdout",
     "output_type": "stream",
     "text": [
      "              precision    recall  f1-score   support\n",
      "\n",
      "        left       1.00      0.98      0.99      2286\n",
      "      stayed       0.98      1.00      0.99      2286\n",
      "\n",
      "    accuracy                           0.99      4572\n",
      "   macro avg       0.99      0.99      0.99      4572\n",
      "weighted avg       0.99      0.99      0.99      4572\n",
      "\n"
     ]
    }
   ],
   "source": [
    "# model evaluation - recall, precision , F1-score\n",
    "metric_report = classification_report(y_true = y_test, y_pred = y_hat, output_dict = False, zero_division = 0) \n",
    "print(metric_report)"
   ]
  }
 ],
 "metadata": {
  "kernelspec": {
   "display_name": "pythonupskill",
   "language": "python",
   "name": "python3"
  },
  "language_info": {
   "codemirror_mode": {
    "name": "ipython",
    "version": 3
   },
   "file_extension": ".py",
   "mimetype": "text/x-python",
   "name": "python",
   "nbconvert_exporter": "python",
   "pygments_lexer": "ipython3",
   "version": "3.11.5"
  }
 },
 "nbformat": 4,
 "nbformat_minor": 2
}
